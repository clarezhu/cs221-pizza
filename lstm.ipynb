{
 "cells": [
  {
   "cell_type": "code",
   "execution_count": 21,
   "metadata": {},
   "outputs": [],
   "source": [
    "import pandas as pd\n",
    "import re\n",
    "import spacy\n",
    "import string\n",
    "from spacy.lang.en.stop_words import STOP_WORDS\n",
    "from spacy.lang.en import English\n",
    "\n"
   ]
  },
  {
   "cell_type": "code",
   "execution_count": 281,
   "metadata": {},
   "outputs": [],
   "source": [
    "new_train_set = pd.read_csv(\"new_data/train_all.csv\")\n",
    "new_val_set = pd.read_csv(\"new_data/val_all.csv\")\n",
    "\n",
    "\n",
    "old_train_set = pd.read_csv(\"data/train_all.csv\")\n",
    "old_val_set = pd.read_csv(\"data/val_all.csv\")"
   ]
  },
  {
   "cell_type": "code",
   "execution_count": 282,
   "metadata": {},
   "outputs": [
    {
     "data": {
      "text/plain": [
       "0.580110497237569"
      ]
     },
     "execution_count": 282,
     "metadata": {},
     "output_type": "execute_result"
    }
   ],
   "source": [
    "sum(new_val_set['requester_received_pizza'])/len(new_val_set)"
   ]
  },
  {
   "cell_type": "code",
   "execution_count": 283,
   "metadata": {},
   "outputs": [
    {
     "data": {
      "text/plain": [
       "0.5795873249815771"
      ]
     },
     "execution_count": 283,
     "metadata": {},
     "output_type": "execute_result"
    }
   ],
   "source": [
    "sum(new_train_set['requester_received_pizza'])/len(new_train_set)"
   ]
  },
  {
   "cell_type": "code",
   "execution_count": 153,
   "metadata": {},
   "outputs": [],
   "source": [
    "nlp = spacy.load('en')\n",
    "REPLACE_BY_SPACE_RE = re.compile('[/(){}\\[\\]\\|@,;]')\n",
    "BAD_SYMBOLS_RE = re.compile('[^0-9a-z #+_]')\n",
    "\n",
    "\n",
    "punctuations = string.punctuation\n",
    "\n",
    "\n",
    "stop_words = spacy.lang.en.stop_words.STOP_WORDS\n",
    "\n",
    "parser = English()\n",
    "\n",
    "def spacy_tokenizer(sentence):\n",
    "    # Creating our token object, which is used to create documents with linguistic annotations.\n",
    "    mytokens = parser(sentence)\n",
    "\n",
    "    # Lemmatizing each token and converting each token into lowercase\n",
    "    mytokens = [ word.lemma_.lower().strip() if word.lemma_ != \"-PRON-\" else word.lower_ for word in mytokens ]\n",
    "\n",
    "    # Removing stop words\n",
    "    mytokens = [ word for word in mytokens if word not in stop_words and word not in punctuations ]\n",
    "\n",
    "    # return preprocessed list of tokens\n",
    "    return mytokens"
   ]
  },
  {
   "cell_type": "code",
   "execution_count": 154,
   "metadata": {},
   "outputs": [],
   "source": [
    "\n",
    "\n",
    "\n",
    "\n",
    "def get_datasets(type='new'):\n",
    "    if type == 'new':\n",
    "        train_data = new_train_set['request_text'].apply(spacy_tokenizer)\n",
    "        train_target = new_train_set['requester_received_pizza']\n",
    "        val_data = new_val_set['request_text'].apply(spacy_tokenizer)\n",
    "        val_target = new_val_set['requester_received_pizza']\n",
    "    else:\n",
    "        train_data = old_train_set['request_text_edit_aware'].apply(spacy_tokenizer)\n",
    "        train_target = old_train_set['requester_received_pizza']\n",
    "        val_data = old_val_set['request_text_edit_aware'].apply(spacy_tokenizer)\n",
    "        val_target = old_val_set['requester_received_pizza']\n",
    "        \n",
    "    return train_data, train_target, val_data, val_target"
   ]
  },
  {
   "cell_type": "code",
   "execution_count": 155,
   "metadata": {},
   "outputs": [],
   "source": [
    "train_data, train_target, val_data, val_target = get_datasets()"
   ]
  },
  {
   "cell_type": "code",
   "execution_count": 156,
   "metadata": {},
   "outputs": [
    {
     "data": {
      "text/plain": [
       "['went',\n",
       " 'clinic',\n",
       " 'doctor',\n",
       " 'sick',\n",
       " '10',\n",
       " 'days',\n",
       " 'pizza',\n",
       " 'spent',\n",
       " '27.77',\n",
       " 'counter',\n",
       " 'meds',\n",
       " 'home',\n",
       " 'pick',\n",
       " 'prescription',\n",
       " 'sudafed',\n",
       " 'supposed',\n",
       " 'food',\n",
       " 'honestly',\n",
       " 'feel',\n",
       " 'cooking']"
      ]
     },
     "execution_count": 156,
     "metadata": {},
     "output_type": "execute_result"
    }
   ],
   "source": [
    "train_data[0]"
   ]
  },
  {
   "cell_type": "code",
   "execution_count": 285,
   "metadata": {},
   "outputs": [],
   "source": [
    "from keras.preprocessing.text import Tokenizer\n",
    "from keras.preprocessing.sequence import pad_sequences\n",
    "from keras.models import Sequential\n",
    "from keras.models import Model\n",
    "from keras.layers import Dense, Embedding, LSTM, SpatialDropout1D, Input, Bidirectional\n",
    "from keras.optimizers import RMSprop\n",
    "\n",
    "\n",
    "\n",
    "from matplotlib import pyplot as plt\n",
    "\n",
    "\n",
    "def evaluate_lstm( train_data, train_target, val_data, val_target):\n",
    "\n",
    "        \n",
    "        MAX_NB_WORDS = 50000\n",
    "        # Max number of words in each complaint.\n",
    "        MAX_SEQUENCE_LENGTH = 250\n",
    "        # This is fixed.\n",
    "        EMBEDDING_DIM = 100\n",
    "        tokenizer = Tokenizer(num_words=MAX_NB_WORDS, filters='!\"#$%&()*+,-./:;<=>?@[\\]^_`{|}~', lower=True)\n",
    "        tokenizer.fit_on_texts(train_data)\n",
    "        word_index = tokenizer.word_index\n",
    "        print('Found %s unique tokens.' % len(word_index))\n",
    "    \n",
    "    \n",
    "        X_train = tokenizer.texts_to_sequences(train_data)\n",
    "        X_train = pad_sequences(X_train, maxlen=MAX_SEQUENCE_LENGTH)\n",
    "        print('Shape of data tensor:', X_train.shape)\n",
    "    \n",
    "    \n",
    "        X_val = tokenizer.texts_to_sequences(val_data)\n",
    "        X_val = pad_sequences(X_val, maxlen=MAX_SEQUENCE_LENGTH)\n",
    "        print('Shape of data tensor:', X_val.shape)\n",
    "    \n",
    "        Y_train =  train_target\n",
    "        print('Shape of label tensor:', Y_train.shape)\n",
    "    \n",
    "        Y_val =  val_target\n",
    "        print('Shape of label tensor:', Y_val.shape)\n",
    "        \n",
    "        \n",
    "#         inputs = Input(name='inputs',shape=[MAX_SEQUENCE_LENGTH])\n",
    "#         layer = Embedding(MAX_NB_WORDS,150,input_length=MAX_SEQUENCE_LENGTH)(inputs)\n",
    "#         layer = LSTM(64)(layer)\n",
    "#         layer = Dense(256,name='FC1')(layer)\n",
    "#         layer = Activation('relu')(layer)\n",
    "#         layer = Dropout(0.5)(layer)\n",
    "#         layer = Dense(2,name='softmax')(layer)\n",
    "#         model = Model(inputs=inputs,outputs=layer)\n",
    "        \n",
    "#         model.compile(loss='binary_crossentropy',optimizer=RMSprop(),metrics=['accuracy'])\n",
    "\n",
    "#         model = Sequential()\n",
    "#         model.add(Embedding(MAX_NB_WORDS, EMBEDDING_DIM, input_length=X_train.shape[1]))\n",
    "#         model.add(SpatialDropout1D(0.2))\n",
    "#         model.add(Bidirectional(LSTM(100, dropout=0.2, recurrent_dropout=0.2)))\n",
    "#         model.add(Dense(2, activation='softmax'))\n",
    "#         model.compile(loss='categorical_crossentropy', optimizer='adam', metrics=['accuracy'])\n",
    "#         print(model.summary())\n",
    "\n",
    "          \n",
    "        model = Sequential()\n",
    "        model.add(Embedding(MAX_NB_WORDS, EMBEDDING_DIM, input_length=X_train.shape[1]))\n",
    "        model.add(SpatialDropout1D(0.2))\n",
    "        model.add(LSTM(100, dropout=0.2, recurrent_dropout=0.2))\n",
    "        model.add(Dense(1, activation='sigmoid'))\n",
    "        model.compile(loss='binary_crossentropy', optimizer='adam', metrics=['accuracy'])\n",
    "        print(model.summary())\n",
    "    \n",
    "    \n",
    "    \n",
    "#         model = Sequential()\n",
    "#         model.add(Embedding(MAX_NB_WORDS, EMBEDDING_DIM, input_length=X_train.shape[1]))\n",
    "#         model.add(SpatialDropout1D(0.2))\n",
    "#         model.add(LSTM(100, dropout=0.2, recurrent_dropout=0.2))\n",
    "#         model.add(Dense(2, activation='softmax'))\n",
    "#         model.compile(loss='categorical_crossentropy', optimizer='adam', metrics=['accuracy'])\n",
    "#         print(model.summary())\n",
    "\n",
    "#         sequence_input = Input(shape=(MAX_SEQUENCE_LENGTH,), dtype='int32')\n",
    "#         embedded_sequences= Embedding( MAX_NB_WORDS,100,input_length=MAX_SEQUENCE_LENGTH)(sequence_input)\n",
    "#         l_lstm = Bidirectional(LSTM(100))(embedded_sequences)\n",
    "#         preds = Dense(2, activation='softmax')(l_lstm)\n",
    "#         model = Model(sequence_input, preds)\n",
    "#         model.compile(loss='categorical_crossentropy',optimizer='rmsprop',  metrics=['acc'])\n",
    "    \n",
    "        epochs = 10\n",
    "        batch_size = 64\n",
    "\n",
    "        history = model.fit(X_train, Y_train, epochs=epochs, batch_size=batch_size, validation_data=(X_val, Y_val),callbacks=[EarlyStopping(monitor='val_loss', min_delta=0.0001)])\n",
    "        #accr = model.evaluate(X_val,Y_val)\n",
    "       # print('Test set\\n  Loss: {:0.3f}\\n  Accuracy: {:0.3f}'.format(accr[0],accr[1]))\n",
    "        \n",
    "        return history\n",
    "        \n",
    "        \n",
    "\n",
    "        \n",
    "    \n",
    "    "
   ]
  },
  {
   "cell_type": "code",
   "execution_count": 286,
   "metadata": {},
   "outputs": [
    {
     "data": {
      "text/plain": [
       "250"
      ]
     },
     "execution_count": 286,
     "metadata": {},
     "output_type": "execute_result"
    }
   ],
   "source": [
    "X_train.shape[1]"
   ]
  },
  {
   "cell_type": "code",
   "execution_count": 287,
   "metadata": {},
   "outputs": [
    {
     "name": "stdout",
     "output_type": "stream",
     "text": [
      "Found 9816 unique tokens.\n",
      "Shape of data tensor: (2714, 250)\n",
      "Shape of data tensor: (905, 250)\n",
      "Shape of label tensor: (2714,)\n",
      "Shape of label tensor: (905,)\n",
      "Model: \"sequential_53\"\n",
      "_________________________________________________________________\n",
      "Layer (type)                 Output Shape              Param #   \n",
      "=================================================================\n",
      "embedding_65 (Embedding)     (None, 250, 100)          5000000   \n",
      "_________________________________________________________________\n",
      "spatial_dropout1d_42 (Spatia (None, 250, 100)          0         \n",
      "_________________________________________________________________\n",
      "lstm_64 (LSTM)               (None, 100)               80400     \n",
      "_________________________________________________________________\n",
      "dense_53 (Dense)             (None, 1)                 101       \n",
      "=================================================================\n",
      "Total params: 5,080,501\n",
      "Trainable params: 5,080,501\n",
      "Non-trainable params: 0\n",
      "_________________________________________________________________\n",
      "None\n",
      "Train on 2714 samples, validate on 905 samples\n",
      "Epoch 1/10\n",
      "2714/2714 [==============================] - 17s 6ms/step - loss: 0.6777 - accuracy: 0.5792 - val_loss: 0.6687 - val_accuracy: 0.5934\n",
      "Epoch 2/10\n",
      "2714/2714 [==============================] - 15s 6ms/step - loss: 0.6403 - accuracy: 0.6197 - val_loss: 0.6546 - val_accuracy: 0.6088\n",
      "Epoch 3/10\n",
      "2714/2714 [==============================] - 16s 6ms/step - loss: 0.5578 - accuracy: 0.7296 - val_loss: 0.6812 - val_accuracy: 0.5934\n"
     ]
    }
   ],
   "source": [
    "history = evaluate_lstm(train_data, train_target, val_data, val_target)"
   ]
  },
  {
   "cell_type": "code",
   "execution_count": 288,
   "metadata": {},
   "outputs": [
    {
     "data": {
      "image/png": "[encoded data removed]",
      "text/plain": [
       "<Figure size 432x288 with 1 Axes>"
      ]
     },
     "metadata": {
      "needs_background": "light"
     },
     "output_type": "display_data"
    }
   ],
   "source": [
    "from matplotlib import pyplot as plt\n",
    "\n",
    "\n",
    "\n",
    "plt.title('Loss')\n",
    "plt.plot(history.history['loss'], label='train')\n",
    "plt.plot(history.history['val_loss'], label='val')\n",
    "plt.legend()\n",
    "plt.show()"
   ]
  },
  {
   "cell_type": "code",
   "execution_count": 31,
   "metadata": {},
   "outputs": [
    {
     "data": {
      "text/plain": [
       "'went clinic doctor ive sick 10 days pizza spent 2777 counter meds didnt home pick prescription sudafedim supposed food honestly dont feel cooking'"
      ]
     },
     "execution_count": 31,
     "metadata": {},
     "output_type": "execute_result"
    }
   ],
   "source": [
    "train_data[0]"
   ]
  },
  {
   "cell_type": "code",
   "execution_count": 64,
   "metadata": {},
   "outputs": [
    {
     "name": "stdout",
     "output_type": "stream",
     "text": [
      "Found 11239 unique tokens.\n"
     ]
    }
   ],
   "source": [
    "from keras.preprocessing.text import Tokenizer\n",
    "from keras.preprocessing.sequence import pad_sequences\n",
    "\n",
    "\n",
    "MAX_NB_WORDS = 50000\n",
    "# Max number of words in each complaint.\n",
    "MAX_SEQUENCE_LENGTH = 250\n",
    "# This is fixed.\n",
    "EMBEDDING_DIM = 100\n",
    "tokenizer = Tokenizer(num_words=MAX_NB_WORDS, filters='!\"#$%&()*+,-./:;<=>?@[\\]^_`{|}~', lower=True)\n",
    "tokenizer.fit_on_texts(train_data)\n",
    "word_index = tokenizer.word_index\n",
    "print('Found %s unique tokens.' % len(word_index))"
   ]
  },
  {
   "cell_type": "code",
   "execution_count": 65,
   "metadata": {},
   "outputs": [
    {
     "name": "stdout",
     "output_type": "stream",
     "text": [
      "Shape of data tensor: (2714, 250)\n"
     ]
    }
   ],
   "source": [
    "\n",
    "X_train = tokenizer.texts_to_sequences(train_data)\n",
    "X_train = pad_sequences(X_train, maxlen=MAX_SEQUENCE_LENGTH)\n",
    "print('Shape of data tensor:', X_train.shape)"
   ]
  },
  {
   "cell_type": "code",
   "execution_count": 66,
   "metadata": {},
   "outputs": [
    {
     "name": "stdout",
     "output_type": "stream",
     "text": [
      "Shape of data tensor: (905, 250)\n"
     ]
    }
   ],
   "source": [
    "\n",
    "X_val = tokenizer.texts_to_sequences(val_data)\n",
    "X_val = pad_sequences(X_val, maxlen=MAX_SEQUENCE_LENGTH)\n",
    "print('Shape of data tensor:', X_val.shape)"
   ]
  },
  {
   "cell_type": "code",
   "execution_count": 67,
   "metadata": {},
   "outputs": [
    {
     "name": "stdout",
     "output_type": "stream",
     "text": [
      "Shape of label tensor: (2714, 2)\n"
     ]
    }
   ],
   "source": [
    "Y_train =  pd.get_dummies(train_target)\n",
    "print('Shape of label tensor:', Y_train.shape)"
   ]
  },
  {
   "cell_type": "code",
   "execution_count": 68,
   "metadata": {},
   "outputs": [
    {
     "name": "stdout",
     "output_type": "stream",
     "text": [
      "Shape of label tensor: (905, 2)\n"
     ]
    }
   ],
   "source": [
    "Y_val =  pd.get_dummies(val_target)\n",
    "print('Shape of label tensor:', Y_val.shape)"
   ]
  },
  {
   "cell_type": "code",
   "execution_count": 69,
   "metadata": {},
   "outputs": [
    {
     "name": "stdout",
     "output_type": "stream",
     "text": [
      "Model: \"sequential_3\"\n",
      "_________________________________________________________________\n",
      "Layer (type)                 Output Shape              Param #   \n",
      "=================================================================\n",
      "embedding_2 (Embedding)      (None, 250, 100)          5000000   \n",
      "_________________________________________________________________\n",
      "spatial_dropout1d_2 (Spatial (None, 250, 100)          0         \n",
      "_________________________________________________________________\n",
      "lstm_2 (LSTM)                (None, 100)               80400     \n",
      "_________________________________________________________________\n",
      "dense_2 (Dense)              (None, 2)                 202       \n",
      "=================================================================\n",
      "Total params: 5,080,602\n",
      "Trainable params: 5,080,602\n",
      "Non-trainable params: 0\n",
      "_________________________________________________________________\n",
      "None\n"
     ]
    }
   ],
   "source": [
    "from keras.models import Sequential\n",
    "from keras.layers import Dense, Embedding, LSTM, SpatialDropout1D\n",
    "\n",
    "\n",
    "model = Sequential()\n",
    "model.add(Embedding(MAX_NB_WORDS, EMBEDDING_DIM, input_length=X_train.shape[1]))\n",
    "model.add(SpatialDropout1D(0.2))\n",
    "model.add(LSTM(100, dropout=0.2, recurrent_dropout=0.2))\n",
    "model.add(Dense(2, activation='softmax'))\n",
    "model.compile(loss='categorical_crossentropy', optimizer='adam', metrics=['accuracy'])\n",
    "print(model.summary())"
   ]
  },
  {
   "cell_type": "code",
   "execution_count": 75,
   "metadata": {},
   "outputs": [
    {
     "name": "stdout",
     "output_type": "stream",
     "text": [
      "Train on 2171 samples, validate on 543 samples\n",
      "Epoch 1/10\n",
      "2171/2171 [==============================] - 12s 5ms/step - loss: 0.0817 - accuracy: 0.9733 - val_loss: 0.8410 - val_accuracy: 0.7459\n",
      "Epoch 2/10\n",
      "2171/2171 [==============================] - 13s 6ms/step - loss: 0.0534 - accuracy: 0.9857 - val_loss: 0.8877 - val_accuracy: 0.7403\n",
      "Epoch 3/10\n",
      "2171/2171 [==============================] - 12s 6ms/step - loss: 0.0351 - accuracy: 0.9889 - val_loss: 0.9345 - val_accuracy: 0.7514\n",
      "Epoch 4/10\n",
      "2171/2171 [==============================] - 11s 5ms/step - loss: 0.0263 - accuracy: 0.9940 - val_loss: 1.1167 - val_accuracy: 0.7514\n"
     ]
    }
   ],
   "source": [
    "from keras.callbacks import EarlyStopping\n",
    "\n",
    "epochs = 10\n",
    "batch_size = 64\n",
    "\n",
    "history = model.fit(X_train, Y_train, epochs=epochs, batch_size=batch_size,validation_split=0.2,callbacks=[EarlyStopping(monitor='val_loss', patience=3, min_delta=0.0001)])"
   ]
  },
  {
   "cell_type": "code",
   "execution_count": 76,
   "metadata": {},
   "outputs": [
    {
     "name": "stdout",
     "output_type": "stream",
     "text": [
      "905/905 [==============================] - 2s 2ms/step\n",
      "Test set\n",
      "  Loss: 2.028\n",
      "  Accuracy: 0.540\n"
     ]
    }
   ],
   "source": [
    "accr = model.evaluate(X_val,Y_val)\n",
    "print('Test set\\n  Loss: {:0.3f}\\n  Accuracy: {:0.3f}'.format(accr[0],accr[1]))"
   ]
  },
  {
   "cell_type": "code",
   "execution_count": 216,
   "metadata": {},
   "outputs": [
    {
     "data": {
      "image/png": "[encoded data removed]",
      "text/plain": [
       "<Figure size 432x288 with 1 Axes>"
      ]
     },
     "metadata": {
      "needs_background": "light"
     },
     "output_type": "display_data"
    }
   ],
   "source": [
    "\n",
    "plt.title('Accuracy')\n",
    "plt.plot(history.history['accuracy'], label='train')\n",
    "plt.plot(history.history['val_accuracy'], label='val')\n",
    "plt.legend()\n",
    "plt.show()"
   ]
  },
  {
   "cell_type": "code",
   "execution_count": null,
   "metadata": {},
   "outputs": [],
   "source": []
  }
 ],
 "metadata": {
  "kernelspec": {
   "display_name": "Python 3",
   "language": "python",
   "name": "python3"
  },
  "language_info": {
   "codemirror_mode": {
    "name": "ipython",
    "version": 3
   },
   "file_extension": ".py",
   "mimetype": "text/x-python",
   "name": "python",
   "nbconvert_exporter": "python",
   "pygments_lexer": "ipython3",
   "version": "3.7.3"
  }
 },
 "nbformat": 4,
 "nbformat_minor": 2
}

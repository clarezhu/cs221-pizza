{
 "cells": [
  {
   "cell_type": "code",
   "execution_count": 61,
   "metadata": {},
   "outputs": [
    {
     "name": "stderr",
     "output_type": "stream",
     "text": [
      "[nltk_data] Downloading package punkt to\n",
      "[nltk_data]     /Users/battogtokhb/nltk_data...\n",
      "[nltk_data]   Package punkt is already up-to-date!\n"
     ]
    },
    {
     "data": {
      "text/plain": [
       "True"
      ]
     },
     "execution_count": 61,
     "metadata": {},
     "output_type": "execute_result"
    }
   ],
   "source": [
    "import pandas as pd\n",
    "from sklearn.linear_model import LogisticRegression\n",
    "from sklearn.metrics import accuracy_score\n",
    "from collections import defaultdict\n",
    "from sklearn.metrics import roc_auc_score\n",
    "\n",
    "from sklearn.feature_extraction.text import CountVectorizer,TfidfVectorizer\n",
    "from gensim.models.doc2vec import Doc2Vec, TaggedDocument\n",
    "from tqdm import tqdm\n",
    "from sklearn import utils\n",
    "\n",
    "import re\n",
    "import spacy\n",
    "import string\n",
    "from nltk.corpus import stopwords\n",
    "from spacy.lang.en.stop_words import STOP_WORDS\n",
    "from gensim.models.word2vec import Word2Vec\n",
    "from spacy.lang.en import English\n",
    "import spacy\n",
    "import numpy as np\n",
    "import nltk\n",
    "from nltk.tokenize import word_tokenize\n",
    "from bs4 import BeautifulSoup\n",
    "encoding=\"utf-8\"\n",
    "nltk.download('punkt')"
   ]
  },
  {
   "cell_type": "code",
   "execution_count": 60,
   "metadata": {},
   "outputs": [],
   "source": [
    "new_train_set = pd.read_csv(\"new_data/train_all.csv\")\n",
    "old_train_set = pd.read_csv(\"data/train_all.csv\")\n",
    "\n",
    "new_val_set = pd.read_csv(\"new_data/val_all.csv\")\n",
    "old_val_set = pd.read_csv(\"data/val_all.csv\")"
   ]
  },
  {
   "cell_type": "code",
   "execution_count": 3,
   "metadata": {},
   "outputs": [],
   "source": [
    "def cleanText(text):\n",
    "    text = BeautifulSoup(text, \"lxml\").text\n",
    "    text = re.sub(r'\\|\\|\\|', r' ', text) \n",
    "    text = re.sub(r'http\\S+', r'<URL>', text)\n",
    "    text = text.lower()\n",
    "    text = text.replace('x', '')\n",
    "    return text"
   ]
  },
  {
   "cell_type": "code",
   "execution_count": 4,
   "metadata": {},
   "outputs": [],
   "source": [
    "nlp = spacy.load('en')\n",
    "\n",
    "punctuations = string.punctuation\n",
    "\n",
    "\n",
    "stop_words = spacy.lang.en.stop_words.STOP_WORDS\n",
    "\n",
    "parser = English()\n",
    "\n",
    "def spacy_tokenizer(sentence):\n",
    "    # Creating our token object, which is used to create documents with linguistic annotations.\n",
    "    mytokens = parser(sentence)\n",
    "\n",
    "    # Lemmatizing each token and converting each token into lowercase\n",
    "    mytokens = [ word.lemma_.lower().strip() if word.lemma_ != \"-PRON-\" else word.lower_ for word in mytokens ]\n",
    "\n",
    "    # Removing stop words\n",
    "    mytokens = [ word for word in mytokens if word not in stop_words and word not in punctuations ]\n",
    "\n",
    "    # return preprocessed list of tokens\n",
    "    return mytokens"
   ]
  },
  {
   "cell_type": "code",
   "execution_count": 80,
   "metadata": {},
   "outputs": [],
   "source": [
    "def get_datasets(type='new'):\n",
    "    if type == 'new':\n",
    "        train_data = new_train_set['request_text'].apply(spacy_tokenizer)\n",
    "        train_target = new_train_set['requester_received_pizza']\n",
    "        val_data = new_val_set['request_text'].apply(cleanText)\n",
    "        val_target = new_val_set['requester_received_pizza']\n",
    "    else:\n",
    "        train_data = old_train_set['request_text_edit_aware'].apply(cleanText)\n",
    "        train_target = old_train_set['requester_received_pizza']\n",
    "        val_data = old_val_set['request_text_edit_aware'].apply(cleanText)\n",
    "        val_target = old_val_set['requester_received_pizza']\n",
    "        \n",
    "    return train_data, train_target, val_data, val_target"
   ]
  },
  {
   "cell_type": "code",
   "execution_count": 81,
   "metadata": {},
   "outputs": [],
   "source": [
    "train_data, train_target, val_data, val_target = get_datasets()"
   ]
  },
  {
   "cell_type": "code",
   "execution_count": 82,
   "metadata": {},
   "outputs": [
    {
     "data": {
      "text/plain": [
       "['went',\n",
       " 'clinic',\n",
       " 'doctor',\n",
       " 'sick',\n",
       " '10',\n",
       " 'days',\n",
       " 'pizza',\n",
       " 'spent',\n",
       " '27.77',\n",
       " 'counter',\n",
       " 'meds',\n",
       " 'home',\n",
       " 'pick',\n",
       " 'prescription',\n",
       " 'sudafed',\n",
       " 'supposed',\n",
       " 'food',\n",
       " 'honestly',\n",
       " 'feel',\n",
       " 'cooking']"
      ]
     },
     "execution_count": 82,
     "metadata": {},
     "output_type": "execute_result"
    }
   ],
   "source": [
    "train_data[0]"
   ]
  },
  {
   "cell_type": "markdown",
   "metadata": {},
   "source": [
    "## Doc2Vec"
   ]
  },
  {
   "cell_type": "code",
   "execution_count": 62,
   "metadata": {},
   "outputs": [],
   "source": [
    "def evaluate_doc2vec(train_data, train_target, val_data, val_target):\n",
    "    val_corpus = [TaggedDocument(words=spacy_tokenizer(text), tags=[val_target[i]]) for i, text in enumerate(val_data)]    \n",
    "    train_corpus = [TaggedDocument(words=spacy_tokenizer(text), tags=[train_target[i]]) for i, text in enumerate(train_data)]\n",
    "    \n",
    "    model = Doc2Vec(dm=0, dm_mean=1, vector_size=300, window=10, negative=5, min_count=1, workers=5, alpha=0.065, min_alpha=0.065)\n",
    "    model.build_vocab(train_corpus)\n",
    "    \n",
    "    model.train(train_corpus,total_examples=len(train_corpus), epochs=30)\n",
    "    \n",
    "    \n",
    "    def vec_for_learning(model, tagged_docs):\n",
    "        sents = tagged_docs\n",
    "        targets, regressors = zip(*[(doc.tags[0], model.infer_vector(doc.words, steps=20)) for doc in sents])\n",
    "        return targets, regressors\n",
    "    \n",
    "    \n",
    "    y_train, X_train = vec_for_learning(model, train_corpus)\n",
    "    y_val, X_val = vec_for_learning(model, val_corpus)\n",
    "    \n",
    "    clf = LogisticRegression(solver='lbfgs', max_iter=1000)\n",
    "    clf.fit(X_train, y_train)\n",
    "    y_pred = clf.predict(X_val)\n",
    "    return accuracy_score(y_val, y_pred), roc_auc_score(y_val, y_pred) \n",
    "    \n",
    "    "
   ]
  },
  {
   "cell_type": "code",
   "execution_count": 63,
   "metadata": {},
   "outputs": [
    {
     "name": "stderr",
     "output_type": "stream",
     "text": [
      "/usr/local/lib/python3.7/site-packages/bs4/__init__.py:375: UserWarning: \"https://imgur.com/gallery/tizep\" looks like a URL. Beautiful Soup is not an HTTP client. You should probably use an HTTP client like requests to get the document behind the URL, and feed that document to Beautiful Soup.\n",
      "  ' that document to Beautiful Soup.' % decoded_markup\n"
     ]
    },
    {
     "data": {
      "text/plain": [
       "(0.5480662983425414, 0.5312531328320802)"
      ]
     },
     "execution_count": 63,
     "metadata": {},
     "output_type": "execute_result"
    }
   ],
   "source": [
    "train_data, train_target, val_data, val_target = get_datasets(type='new')\n",
    "evaluate_doc2vec(train_data, train_target, val_data, val_target)"
   ]
  },
  {
   "cell_type": "code",
   "execution_count": 64,
   "metadata": {},
   "outputs": [
    {
     "name": "stderr",
     "output_type": "stream",
     "text": [
      "/usr/local/lib/python3.7/site-packages/bs4/__init__.py:375: UserWarning: \"http://www.reddit.com/r/self/comments/ihc7v/found_a_dudes_iphone_4_in_boston_last_night/\" looks like a URL. Beautiful Soup is not an HTTP client. You should probably use an HTTP client like requests to get the document behind the URL, and feed that document to Beautiful Soup.\n",
      "  ' that document to Beautiful Soup.' % decoded_markup\n",
      "/usr/local/lib/python3.7/site-packages/bs4/__init__.py:302: UserWarning: \"b'.'\" looks like a filename, not markup. You should probably open this file and pass the filehandle into Beautiful Soup.\n",
      "  ' Beautiful Soup.' % markup)\n",
      "/usr/local/lib/python3.7/site-packages/bs4/__init__.py:375: UserWarning: \"http://m.youtube.com/?reason=8&amp;rdm=3676#/watch?v=V09Mt66O9_c&amp;desktop_uri=%2Fwatch%3Fv%3DV09Mt66O9_c\" looks like a URL. Beautiful Soup is not an HTTP client. You should probably use an HTTP client like requests to get the document behind the URL, and feed that document to Beautiful Soup.\n",
      "  ' that document to Beautiful Soup.' % decoded_markup\n",
      "/usr/local/lib/python3.7/site-packages/bs4/__init__.py:375: UserWarning: \"http://i.imgur.com/DxyE3.jpg\" looks like a URL. Beautiful Soup is not an HTTP client. You should probably use an HTTP client like requests to get the document behind the URL, and feed that document to Beautiful Soup.\n",
      "  ' that document to Beautiful Soup.' % decoded_markup\n",
      "/usr/local/lib/python3.7/site-packages/bs4/__init__.py:375: UserWarning: \"http://www.mordours.com/\" looks like a URL. Beautiful Soup is not an HTTP client. You should probably use an HTTP client like requests to get the document behind the URL, and feed that document to Beautiful Soup.\n",
      "  ' that document to Beautiful Soup.' % decoded_markup\n"
     ]
    },
    {
     "data": {
      "text/plain": [
       "(0.6863100634632819, 0.5275559947299078)"
      ]
     },
     "execution_count": 64,
     "metadata": {},
     "output_type": "execute_result"
    }
   ],
   "source": [
    "train_data, train_target, val_data, val_target = get_datasets(type='old')\n",
    "evaluate_doc2vec(train_data, train_target, val_data, val_target)"
   ]
  },
  {
   "cell_type": "code",
   "execution_count": 19,
   "metadata": {
    "scrolled": true
   },
   "outputs": [
    {
     "name": "stderr",
     "output_type": "stream",
     "text": [
      "/usr/local/lib/python3.7/site-packages/bs4/__init__.py:375: UserWarning: \"http://www.reddit.com/r/self/comments/ihc7v/found_a_dudes_iphone_4_in_boston_last_night/\" looks like a URL. Beautiful Soup is not an HTTP client. You should probably use an HTTP client like requests to get the document behind the URL, and feed that document to Beautiful Soup.\n",
      "  ' that document to Beautiful Soup.' % decoded_markup\n",
      "/usr/local/lib/python3.7/site-packages/bs4/__init__.py:302: UserWarning: \"b'.'\" looks like a filename, not markup. You should probably open this file and pass the filehandle into Beautiful Soup.\n",
      "  ' Beautiful Soup.' % markup)\n",
      "/usr/local/lib/python3.7/site-packages/bs4/__init__.py:375: UserWarning: \"http://m.youtube.com/?reason=8&amp;rdm=3676#/watch?v=V09Mt66O9_c&amp;desktop_uri=%2Fwatch%3Fv%3DV09Mt66O9_c\" looks like a URL. Beautiful Soup is not an HTTP client. You should probably use an HTTP client like requests to get the document behind the URL, and feed that document to Beautiful Soup.\n",
      "  ' that document to Beautiful Soup.' % decoded_markup\n",
      "/usr/local/lib/python3.7/site-packages/bs4/__init__.py:375: UserWarning: \"http://i.imgur.com/DxyE3.jpg\" looks like a URL. Beautiful Soup is not an HTTP client. You should probably use an HTTP client like requests to get the document behind the URL, and feed that document to Beautiful Soup.\n",
      "  ' that document to Beautiful Soup.' % decoded_markup\n",
      "/usr/local/lib/python3.7/site-packages/bs4/__init__.py:375: UserWarning: \"http://www.mordours.com/\" looks like a URL. Beautiful Soup is not an HTTP client. You should probably use an HTTP client like requests to get the document behind the URL, and feed that document to Beautiful Soup.\n",
      "  ' that document to Beautiful Soup.' % decoded_markup\n",
      "/usr/local/lib/python3.7/site-packages/bs4/__init__.py:375: UserWarning: \"https://imgur.com/gallery/tizep\" looks like a URL. Beautiful Soup is not an HTTP client. You should probably use an HTTP client like requests to get the document behind the URL, and feed that document to Beautiful Soup.\n",
      "  ' that document to Beautiful Soup.' % decoded_markup\n"
     ]
    },
    {
     "data": {
      "text/plain": [
       "0.4453038674033149"
      ]
     },
     "execution_count": 19,
     "metadata": {},
     "output_type": "execute_result"
    }
   ],
   "source": [
    "old_train_data, old_train_target, old_val_data, old_val_target = get_datasets(type='old')\n",
    "new_train_data, new_train_target, new_val_data, new_val_target = get_datasets(type='new')\n",
    "\n",
    "evaluate_doc2vec(old_train_data, old_train_target, new_val_data, new_val_target)"
   ]
  },
  {
   "cell_type": "code",
   "execution_count": 20,
   "metadata": {},
   "outputs": [
    {
     "data": {
      "text/plain": [
       "0.4551223934723481"
      ]
     },
     "execution_count": 20,
     "metadata": {},
     "output_type": "execute_result"
    }
   ],
   "source": [
    "evaluate_doc2vec(new_train_data, new_train_target, old_val_data, old_val_target)"
   ]
  },
  {
   "cell_type": "code",
   "execution_count": 21,
   "metadata": {},
   "outputs": [],
   "source": [
    "X = []\n",
    "documents = []\n",
    "\n",
    "for entry in train_data:\n",
    "    tokenized = spacy_tokenizer(entry)\n",
    "    X.append(word_tokenize(entry))\n",
    "    \n",
    "for entry in val_data:\n",
    "    tokenized = spacy_tokenizer(entry)\n",
    "    X.append(word_tokenize(entry))\n",
    "\n",
    "\n",
    "X = np.array(X)"
   ]
  },
  {
   "cell_type": "code",
   "execution_count": 47,
   "metadata": {},
   "outputs": [],
   "source": [
    "import struct \n",
    "\n",
    "glove_small = {}\n",
    "all_words = set(w for words in X for w in words)\n",
    "with open(\"/Users/battogtokhb/Downloads/glove.6B.100d.txt\", \"rb\") as infile:\n",
    "    for line in infile:\n",
    "        parts = line.split()\n",
    "        word = parts[0].decode(encoding)\n",
    "        if (word in all_words):\n",
    "            nums=np.array(parts[1:], dtype=np.float32)\n",
    "            glove_small[word] = nums"
   ]
  },
  {
   "cell_type": "code",
   "execution_count": 23,
   "metadata": {},
   "outputs": [
    {
     "name": "stdout",
     "output_type": "stream",
     "text": [
      "14121\n"
     ]
    }
   ],
   "source": [
    "\n",
    "print(len(all_words))"
   ]
  },
  {
   "cell_type": "code",
   "execution_count": 24,
   "metadata": {},
   "outputs": [
    {
     "name": "stderr",
     "output_type": "stream",
     "text": [
      "/usr/local/Cellar/ipython/7.2.0/libexec/vendor/lib/python3.7/site-packages/ipykernel_launcher.py:2: DeprecationWarning: Call to deprecated `syn0` (Attribute will be removed in 4.0.0, use self.vectors instead).\n",
      "  \n"
     ]
    }
   ],
   "source": [
    "model = Word2Vec(X, size=100, window=5, min_count=5, workers=2)\n",
    "w2v = {w: vec for w, vec in zip(model.wv.index2word, model.wv.syn0)}"
   ]
  },
  {
   "cell_type": "code",
   "execution_count": 65,
   "metadata": {},
   "outputs": [],
   "source": [
    "class MeanEmbeddingVectorizer(object):\n",
    "    def __init__(self, word2vec):\n",
    "        self.word2vec = word2vec\n",
    "        if len(word2vec)>0:\n",
    "            self.dim=len(word2vec[next(iter(glove_small))])\n",
    "        else:\n",
    "            self.dim=0\n",
    "            \n",
    "    def fit(self, X, y):\n",
    "        return self \n",
    "\n",
    "    def transform(self, X):\n",
    "        return np.array([\n",
    "            np.mean([self.word2vec[w] for w in words if w in self.word2vec] \n",
    "                    or [np.zeros(self.dim)], axis=0)\n",
    "            for words in X\n",
    "        ])\n",
    "\n",
    "    \n",
    "# and a tf-idf version of the same\n",
    "class TfidfEmbeddingVectorizer(object):\n",
    "    def __init__(self, word2vec):\n",
    "        self.word2vec = word2vec\n",
    "        self.word2weight = None\n",
    "        if len(word2vec)>0:\n",
    "            self.dim=len(word2vec[next(iter(glove_small))])\n",
    "        else:\n",
    "            self.dim=0\n",
    "        \n",
    "    def fit(self, X, y):\n",
    "        tfidf = TfidfVectorizer(analyzer=lambda x: x)\n",
    "        tfidf.fit(X)\n",
    "        # if a word was never seen - it must be at least as infrequent\n",
    "        # as any of the known words - so the default idf is the max of \n",
    "        # known idf's\n",
    "        max_idf = max(tfidf.idf_)\n",
    "        self.word2weight = defaultdict(\n",
    "            lambda: max_idf, \n",
    "            [(w, tfidf.idf_[i]) for w, i in tfidf.vocabulary_.items()])\n",
    "    \n",
    "        return self\n",
    "    \n",
    "    def transform(self, X):\n",
    "        return np.array([\n",
    "                np.mean([self.word2vec[w] * self.word2weight[w]\n",
    "                         for w in words if w in self.word2vec] or\n",
    "                        [np.zeros(self.dim)], axis=0)\n",
    "                for words in X\n",
    "            ])"
   ]
  },
  {
   "cell_type": "code",
   "execution_count": 66,
   "metadata": {},
   "outputs": [],
   "source": [
    "\n",
    "from sklearn.pipeline import Pipeline\n",
    "from sklearn.ensemble import ExtraTreesClassifier"
   ]
  },
  {
   "cell_type": "code",
   "execution_count": 67,
   "metadata": {},
   "outputs": [],
   "source": [
    "lg_glove_small = Pipeline([(\"glove vectorizer\", MeanEmbeddingVectorizer(glove_small)), \n",
    "                        (\"classifier\", LogisticRegression(solver='lbfgs', max_iter=1000))])\n",
    "lg_glove_small_tfidf = Pipeline([(\"glove vectorizer\", TfidfEmbeddingVectorizer(glove_small)), \n",
    "                        (\"classifer\", LogisticRegression(solver='lbfgs', max_iter=1000))])\n",
    "\n",
    "\n",
    "lg_w2v = Pipeline([(\"word2vec vectorizer\", MeanEmbeddingVectorizer(w2v)), \n",
    "                        (\"extra trees\", LogisticRegression(solver='lbfgs', max_iter=1000))])\n",
    "lg_w2v_tfidf = Pipeline([(\"word2vec vectorizer\", TfidfEmbeddingVectorizer(w2v)), \n",
    "                        (\"classifier\", LogisticRegression(solver='lbfgs', max_iter=1000))])"
   ]
  },
  {
   "cell_type": "code",
   "execution_count": 71,
   "metadata": {},
   "outputs": [],
   "source": [
    "def evaluate_w2v(train_data, train_target, val_data, val_target):\n",
    "    lg_w2v.fit(train_data, train_target)\n",
    "    predicted = lg_w2v.predict(val_data)\n",
    "    print (\"lg_w2v\", accuracy_score(val_target,predicted) ,roc_auc_score(val_target,predicted))\n",
    "    \n",
    "    \n",
    "    \n",
    "    lg_w2v_tfidf.fit(train_data, train_target)\n",
    "    predicted = lg_w2v_tfidf.predict(val_data)\n",
    "    print (\"lg_w2v_tfidf\", accuracy_score(val_target,predicted), roc_auc_score(val_target,predicted))"
   ]
  },
  {
   "cell_type": "code",
   "execution_count": 72,
   "metadata": {},
   "outputs": [
    {
     "name": "stdout",
     "output_type": "stream",
     "text": [
      "lg_w2v 0.5823204419889503 0.5029949874686717\n",
      "lg_w2v_tfidf 0.5878453038674033 0.509937343358396\n"
     ]
    }
   ],
   "source": [
    "evaluate_w2v(new_train_data, new_train_target,new_val_data, new_val_target)"
   ]
  },
  {
   "cell_type": "code",
   "execution_count": 73,
   "metadata": {},
   "outputs": [
    {
     "name": "stdout",
     "output_type": "stream",
     "text": [
      "lg_w2v 0.7506799637352675 0.5\n",
      "lg_w2v_tfidf 0.7506799637352675 0.5012143170838823\n"
     ]
    }
   ],
   "source": [
    "evaluate_w2v(old_train_data, old_train_target,old_val_data, old_val_target)"
   ]
  },
  {
   "cell_type": "code",
   "execution_count": 74,
   "metadata": {},
   "outputs": [],
   "source": [
    "def evaluate_glove(train_data, train_target, val_data, val_target):\n",
    "    lg_glove_small.fit(train_data, train_target)\n",
    "    predicted = lg_glove_small.predict(val_data)\n",
    "    print (\"lg_glove_small\", accuracy_score(val_target,predicted),  roc_auc_score(val_target,predicted))\n",
    "    \n",
    "    \n",
    "    \n",
    "    lg_glove_small_tfidf.fit(train_data, train_target)\n",
    "    predicted = lg_glove_small_tfidf.predict(val_data)\n",
    "    print (\"lg_glove_small_tfidf\", accuracy_score(val_target,predicted),  roc_auc_score(val_target,predicted))\n",
    "    "
   ]
  },
  {
   "cell_type": "code",
   "execution_count": 75,
   "metadata": {},
   "outputs": [
    {
     "name": "stdout",
     "output_type": "stream",
     "text": [
      "lg_glove_small 0.5779005524861879 0.5002756892230577\n",
      "lg_glove_small_tfidf 0.5823204419889503 0.5048120300751879\n"
     ]
    }
   ],
   "source": [
    "evaluate_glove(new_train_data, new_train_target,new_val_data, new_val_target)"
   ]
  },
  {
   "cell_type": "code",
   "execution_count": 76,
   "metadata": {},
   "outputs": [
    {
     "name": "stdout",
     "output_type": "stream",
     "text": [
      "lg_glove_small 0.7515865820489573 0.5018181818181818\n",
      "lg_glove_small_tfidf 0.7497733454215775 0.5006104523495828\n"
     ]
    }
   ],
   "source": [
    "evaluate_glove(old_train_data, old_train_target,old_val_data, old_val_target)"
   ]
  },
  {
   "cell_type": "code",
   "execution_count": null,
   "metadata": {},
   "outputs": [],
   "source": []
  }
 ],
 "metadata": {
  "kernelspec": {
   "display_name": "Python 3",
   "language": "python",
   "name": "python3"
  },
  "language_info": {
   "codemirror_mode": {
    "name": "ipython",
    "version": 3
   },
   "file_extension": ".py",
   "mimetype": "text/x-python",
   "name": "python",
   "nbconvert_exporter": "python",
   "pygments_lexer": "ipython3",
   "version": "3.7.3"
  }
 },
 "nbformat": 4,
 "nbformat_minor": 2
}

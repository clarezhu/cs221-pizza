{
 "cells": [
  {
   "cell_type": "code",
   "execution_count": 49,
   "metadata": {},
   "outputs": [],
   "source": [
    "import pandas as pd\n",
    "import numpy as np\n",
    "import sklearn\n",
    "import seaborn as sns\n",
    "from matplotlib import pyplot as plt\n",
    "from sklearn import model_selection\n",
    "\n",
    "import codecs\n",
    "import json\n",
    "import os\n",
    "SEED = 221"
   ]
  },
  {
   "cell_type": "code",
   "execution_count": 50,
   "metadata": {},
   "outputs": [
    {
     "data": {
      "text/html": [
       "<div>\n",
       "<style scoped>\n",
       "    .dataframe tbody tr th:only-of-type {\n",
       "        vertical-align: middle;\n",
       "    }\n",
       "\n",
       "    .dataframe tbody tr th {\n",
       "        vertical-align: top;\n",
       "    }\n",
       "\n",
       "    .dataframe thead th {\n",
       "        text-align: right;\n",
       "    }\n",
       "</style>\n",
       "<table border=\"1\" class=\"dataframe\">\n",
       "  <thead>\n",
       "    <tr style=\"text-align: right;\">\n",
       "      <th></th>\n",
       "      <th>giver_subreddits_at_request</th>\n",
       "      <th>giver_username</th>\n",
       "      <th>number_of_downvotes_of_request_at_retrieval</th>\n",
       "      <th>number_of_upvotes_of_request_at_retrieval</th>\n",
       "      <th>post_was_edited</th>\n",
       "      <th>request_number_of_comments_at_retrieval</th>\n",
       "      <th>request_text</th>\n",
       "      <th>request_title</th>\n",
       "      <th>request_url</th>\n",
       "      <th>requester_account_age_in_days_at_request</th>\n",
       "      <th>requester_has_verified_email</th>\n",
       "      <th>requester_num_pizza_given_at_request</th>\n",
       "      <th>requester_num_pizza_received_at_request</th>\n",
       "      <th>requester_num_pizza_related_comments_at_request</th>\n",
       "      <th>requester_num_pizza_related_posts_at_request</th>\n",
       "      <th>requester_received_pizza</th>\n",
       "      <th>requester_subreddits_at_request</th>\n",
       "      <th>requester_user_flair</th>\n",
       "      <th>requester_username</th>\n",
       "      <th>unix_timestamp_of_request</th>\n",
       "    </tr>\n",
       "    <tr>\n",
       "      <th>request_id</th>\n",
       "      <th></th>\n",
       "      <th></th>\n",
       "      <th></th>\n",
       "      <th></th>\n",
       "      <th></th>\n",
       "      <th></th>\n",
       "      <th></th>\n",
       "      <th></th>\n",
       "      <th></th>\n",
       "      <th></th>\n",
       "      <th></th>\n",
       "      <th></th>\n",
       "      <th></th>\n",
       "      <th></th>\n",
       "      <th></th>\n",
       "      <th></th>\n",
       "      <th></th>\n",
       "      <th></th>\n",
       "      <th></th>\n",
       "      <th></th>\n",
       "    </tr>\n",
       "  </thead>\n",
       "  <tbody>\n",
       "    <tr>\n",
       "      <th>dphb2r</th>\n",
       "      <td>['LetsNotMeet', 'Random_Acts_Of_Pizza']</td>\n",
       "      <td>bobbyshark</td>\n",
       "      <td>0</td>\n",
       "      <td>7</td>\n",
       "      <td>True</td>\n",
       "      <td>8</td>\n",
       "      <td>hello! i've had a rough week, work is stressfu...</td>\n",
       "      <td>[REQUEST] really stressful week</td>\n",
       "      <td>https://www.reddit.com/r/Random_Acts_Of_Pizza/...</td>\n",
       "      <td>1939.0</td>\n",
       "      <td>True</td>\n",
       "      <td>1.0</td>\n",
       "      <td>1.0</td>\n",
       "      <td>15.0</td>\n",
       "      <td>3.0</td>\n",
       "      <td>1</td>\n",
       "      <td>['IsTodayFridayThe13th', 'Wellthatsucks', 'Sub...</td>\n",
       "      <td>Trader (Got 2 Gave 1) Fish: 150</td>\n",
       "      <td>GojiraWho</td>\n",
       "      <td>1.572489e+09</td>\n",
       "    </tr>\n",
       "    <tr>\n",
       "      <th>dpccso</th>\n",
       "      <td>['holdmyfries', 'PetTheDamnKitty', 'SuicideWat...</td>\n",
       "      <td>SanaeKojima</td>\n",
       "      <td>0</td>\n",
       "      <td>4</td>\n",
       "      <td>False</td>\n",
       "      <td>14</td>\n",
       "      <td>i posted on r/borrow as im trying to pay my li...</td>\n",
       "      <td>[Request] could use a nice pie if possible</td>\n",
       "      <td>https://www.reddit.com/r/Random_Acts_Of_Pizza/...</td>\n",
       "      <td>495.0</td>\n",
       "      <td>True</td>\n",
       "      <td>0.0</td>\n",
       "      <td>0.0</td>\n",
       "      <td>0.0</td>\n",
       "      <td>1.0</td>\n",
       "      <td>1</td>\n",
       "      <td>['DirtySnapchat', 'funny', 'Idubbbz', 'mildlyi...</td>\n",
       "      <td>Recipient (Got 1) Fish: 115</td>\n",
       "      <td>pookumz123</td>\n",
       "      <td>1.572467e+09</td>\n",
       "    </tr>\n",
       "    <tr>\n",
       "      <th>dofjc3</th>\n",
       "      <td>['funny', 'politics', 'photography', '2XLookbo...</td>\n",
       "      <td>shpooey</td>\n",
       "      <td>0</td>\n",
       "      <td>57</td>\n",
       "      <td>False</td>\n",
       "      <td>24</td>\n",
       "      <td>with rent coming up on friday, i’ve already go...</td>\n",
       "      <td>[Request] Vancouver, Canada. Low-income youth ...</td>\n",
       "      <td>https://www.reddit.com/r/Random_Acts_Of_Pizza/...</td>\n",
       "      <td>391.0</td>\n",
       "      <td>True</td>\n",
       "      <td>0.0</td>\n",
       "      <td>0.0</td>\n",
       "      <td>1.0</td>\n",
       "      <td>5.0</td>\n",
       "      <td>1</td>\n",
       "      <td>['BlackDesertMobile', 'freebies', 'GetEmployed...</td>\n",
       "      <td>Recipient (Got 1) Fish: 175</td>\n",
       "      <td>Pd0xG</td>\n",
       "      <td>1.572297e+09</td>\n",
       "    </tr>\n",
       "    <tr>\n",
       "      <th>dofige</th>\n",
       "      <td>['holdmyfries', 'PetTheDamnKitty', 'SuicideWat...</td>\n",
       "      <td>sanaekojima</td>\n",
       "      <td>0</td>\n",
       "      <td>4</td>\n",
       "      <td>False</td>\n",
       "      <td>8</td>\n",
       "      <td>hi i have tried to refrain from making a reque...</td>\n",
       "      <td>[Request] 37343 broke no car and no food in my...</td>\n",
       "      <td>https://www.reddit.com/r/Random_Acts_Of_Pizza/...</td>\n",
       "      <td>1196.0</td>\n",
       "      <td>True</td>\n",
       "      <td>0.0</td>\n",
       "      <td>1.0</td>\n",
       "      <td>7.0</td>\n",
       "      <td>6.0</td>\n",
       "      <td>1</td>\n",
       "      <td>['UpliftingNews', 'FortNiteBR', 'Jokes', 'funn...</td>\n",
       "      <td>Recipient (Got 2) Fish: 140</td>\n",
       "      <td>tvacnaar</td>\n",
       "      <td>1.572297e+09</td>\n",
       "    </tr>\n",
       "    <tr>\n",
       "      <th>doeex3</th>\n",
       "      <td>['LetsNotMeet', 'Random_Acts_Of_Pizza']</td>\n",
       "      <td>bobbyshark</td>\n",
       "      <td>0</td>\n",
       "      <td>16</td>\n",
       "      <td>False</td>\n",
       "      <td>20</td>\n",
       "      <td>been struggling this month im living from payc...</td>\n",
       "      <td>[request] im struggling right now even pizza i...</td>\n",
       "      <td>https://www.reddit.com/r/Random_Acts_Of_Pizza/...</td>\n",
       "      <td>307.0</td>\n",
       "      <td>True</td>\n",
       "      <td>0.0</td>\n",
       "      <td>0.0</td>\n",
       "      <td>0.0</td>\n",
       "      <td>1.0</td>\n",
       "      <td>1</td>\n",
       "      <td>['confusing_perspective', 'PokemonSwordAndShie...</td>\n",
       "      <td>Recipient (Got 1)</td>\n",
       "      <td>bxsmack09</td>\n",
       "      <td>1.572293e+09</td>\n",
       "    </tr>\n",
       "  </tbody>\n",
       "</table>\n",
       "</div>"
      ],
      "text/plain": [
       "                                  giver_subreddits_at_request giver_username  \\\n",
       "request_id                                                                     \n",
       "dphb2r                ['LetsNotMeet', 'Random_Acts_Of_Pizza']     bobbyshark   \n",
       "dpccso      ['holdmyfries', 'PetTheDamnKitty', 'SuicideWat...    SanaeKojima   \n",
       "dofjc3      ['funny', 'politics', 'photography', '2XLookbo...        shpooey   \n",
       "dofige      ['holdmyfries', 'PetTheDamnKitty', 'SuicideWat...    sanaekojima   \n",
       "doeex3                ['LetsNotMeet', 'Random_Acts_Of_Pizza']     bobbyshark   \n",
       "\n",
       "            number_of_downvotes_of_request_at_retrieval  \\\n",
       "request_id                                                \n",
       "dphb2r                                                0   \n",
       "dpccso                                                0   \n",
       "dofjc3                                                0   \n",
       "dofige                                                0   \n",
       "doeex3                                                0   \n",
       "\n",
       "            number_of_upvotes_of_request_at_retrieval  post_was_edited  \\\n",
       "request_id                                                               \n",
       "dphb2r                                              7             True   \n",
       "dpccso                                              4            False   \n",
       "dofjc3                                             57            False   \n",
       "dofige                                              4            False   \n",
       "doeex3                                             16            False   \n",
       "\n",
       "            request_number_of_comments_at_retrieval  \\\n",
       "request_id                                            \n",
       "dphb2r                                            8   \n",
       "dpccso                                           14   \n",
       "dofjc3                                           24   \n",
       "dofige                                            8   \n",
       "doeex3                                           20   \n",
       "\n",
       "                                                 request_text  \\\n",
       "request_id                                                      \n",
       "dphb2r      hello! i've had a rough week, work is stressfu...   \n",
       "dpccso      i posted on r/borrow as im trying to pay my li...   \n",
       "dofjc3      with rent coming up on friday, i’ve already go...   \n",
       "dofige      hi i have tried to refrain from making a reque...   \n",
       "doeex3      been struggling this month im living from payc...   \n",
       "\n",
       "                                                request_title  \\\n",
       "request_id                                                      \n",
       "dphb2r                        [REQUEST] really stressful week   \n",
       "dpccso             [Request] could use a nice pie if possible   \n",
       "dofjc3      [Request] Vancouver, Canada. Low-income youth ...   \n",
       "dofige      [Request] 37343 broke no car and no food in my...   \n",
       "doeex3      [request] im struggling right now even pizza i...   \n",
       "\n",
       "                                                  request_url  \\\n",
       "request_id                                                      \n",
       "dphb2r      https://www.reddit.com/r/Random_Acts_Of_Pizza/...   \n",
       "dpccso      https://www.reddit.com/r/Random_Acts_Of_Pizza/...   \n",
       "dofjc3      https://www.reddit.com/r/Random_Acts_Of_Pizza/...   \n",
       "dofige      https://www.reddit.com/r/Random_Acts_Of_Pizza/...   \n",
       "doeex3      https://www.reddit.com/r/Random_Acts_Of_Pizza/...   \n",
       "\n",
       "            requester_account_age_in_days_at_request  \\\n",
       "request_id                                             \n",
       "dphb2r                                        1939.0   \n",
       "dpccso                                         495.0   \n",
       "dofjc3                                         391.0   \n",
       "dofige                                        1196.0   \n",
       "doeex3                                         307.0   \n",
       "\n",
       "           requester_has_verified_email  requester_num_pizza_given_at_request  \\\n",
       "request_id                                                                      \n",
       "dphb2r                             True                                   1.0   \n",
       "dpccso                             True                                   0.0   \n",
       "dofjc3                             True                                   0.0   \n",
       "dofige                             True                                   0.0   \n",
       "doeex3                             True                                   0.0   \n",
       "\n",
       "            requester_num_pizza_received_at_request  \\\n",
       "request_id                                            \n",
       "dphb2r                                          1.0   \n",
       "dpccso                                          0.0   \n",
       "dofjc3                                          0.0   \n",
       "dofige                                          1.0   \n",
       "doeex3                                          0.0   \n",
       "\n",
       "            requester_num_pizza_related_comments_at_request  \\\n",
       "request_id                                                    \n",
       "dphb2r                                                 15.0   \n",
       "dpccso                                                  0.0   \n",
       "dofjc3                                                  1.0   \n",
       "dofige                                                  7.0   \n",
       "doeex3                                                  0.0   \n",
       "\n",
       "            requester_num_pizza_related_posts_at_request  \\\n",
       "request_id                                                 \n",
       "dphb2r                                               3.0   \n",
       "dpccso                                               1.0   \n",
       "dofjc3                                               5.0   \n",
       "dofige                                               6.0   \n",
       "doeex3                                               1.0   \n",
       "\n",
       "            requester_received_pizza  \\\n",
       "request_id                             \n",
       "dphb2r                             1   \n",
       "dpccso                             1   \n",
       "dofjc3                             1   \n",
       "dofige                             1   \n",
       "doeex3                             1   \n",
       "\n",
       "                              requester_subreddits_at_request  \\\n",
       "request_id                                                      \n",
       "dphb2r      ['IsTodayFridayThe13th', 'Wellthatsucks', 'Sub...   \n",
       "dpccso      ['DirtySnapchat', 'funny', 'Idubbbz', 'mildlyi...   \n",
       "dofjc3      ['BlackDesertMobile', 'freebies', 'GetEmployed...   \n",
       "dofige      ['UpliftingNews', 'FortNiteBR', 'Jokes', 'funn...   \n",
       "doeex3      ['confusing_perspective', 'PokemonSwordAndShie...   \n",
       "\n",
       "                       requester_user_flair requester_username  \\\n",
       "request_id                                                       \n",
       "dphb2r      Trader (Got 2 Gave 1) Fish: 150          GojiraWho   \n",
       "dpccso          Recipient (Got 1) Fish: 115         pookumz123   \n",
       "dofjc3          Recipient (Got 1) Fish: 175              Pd0xG   \n",
       "dofige          Recipient (Got 2) Fish: 140           tvacnaar   \n",
       "doeex3                    Recipient (Got 1)          bxsmack09   \n",
       "\n",
       "            unix_timestamp_of_request  \n",
       "request_id                             \n",
       "dphb2r                   1.572489e+09  \n",
       "dpccso                   1.572467e+09  \n",
       "dofjc3                   1.572297e+09  \n",
       "dofige                   1.572297e+09  \n",
       "doeex3                   1.572293e+09  "
      ]
     },
     "execution_count": 50,
     "metadata": {},
     "output_type": "execute_result"
    }
   ],
   "source": [
    "df = pd.read_csv(\"new.csv\", sep=\"\\t\")\n",
    "df = df.set_index(\"request_id\", verify_integrity=True)\n",
    "df = df.drop(['giver_user_flair'], axis=1)\n",
    "\n",
    "df.head()"
   ]
  },
  {
   "cell_type": "code",
   "execution_count": 54,
   "metadata": {},
   "outputs": [],
   "source": [
    "\n",
    "df = df[df['request_text'].notnull()]"
   ]
  },
  {
   "cell_type": "code",
   "execution_count": 56,
   "metadata": {},
   "outputs": [
    {
     "data": {
      "text/plain": [
       "(4524, 20)"
      ]
     },
     "execution_count": 56,
     "metadata": {},
     "output_type": "execute_result"
    }
   ],
   "source": [
    "df.shape"
   ]
  },
  {
   "cell_type": "code",
   "execution_count": 57,
   "metadata": {},
   "outputs": [
    {
     "name": "stdout",
     "output_type": "stream",
     "text": [
      "success_rate:  57.97966401414677\n"
     ]
    }
   ],
   "source": [
    "print(\"success_rate: \", 100.0 * sum(df['requester_received_pizza']) / float(df.shape[0]))"
   ]
  },
  {
   "cell_type": "markdown",
   "metadata": {},
   "source": [
    "# Make splits while maintaining class balance"
   ]
  },
  {
   "cell_type": "code",
   "execution_count": 58,
   "metadata": {},
   "outputs": [],
   "source": [
    "splits = [0.6, 0.2, 0.2]"
   ]
  },
  {
   "cell_type": "code",
   "execution_count": 59,
   "metadata": {},
   "outputs": [],
   "source": [
    "train_and_val, test_set = sklearn.model_selection.train_test_split(\n",
    "    df, test_size=0.2, stratify=df.requester_received_pizza, random_state=SEED)"
   ]
  },
  {
   "cell_type": "code",
   "execution_count": 60,
   "metadata": {},
   "outputs": [],
   "source": [
    "train_set, val_set = sklearn.model_selection.train_test_split(\n",
    "    train_and_val, test_size=0.25, stratify=train_and_val.requester_received_pizza,\n",
    "    random_state=SEED)"
   ]
  },
  {
   "cell_type": "code",
   "execution_count": 61,
   "metadata": {},
   "outputs": [],
   "source": [
    "train_mini, _ = sklearn.model_selection.train_test_split(\n",
    "    train_set, train_size=0.01, stratify=train_set.requester_received_pizza, random_state=SEED)\n",
    "val_mini, _ = sklearn.model_selection.train_test_split(\n",
    "    val_set, train_size=0.01, stratify=val_set.requester_received_pizza, random_state=SEED)\n",
    "test_mini, _ = sklearn.model_selection.train_test_split(\n",
    "    test_set, train_size=0.01, stratify=test_set.requester_received_pizza, random_state=SEED)\n",
    "\n",
    "train_medium, _ = sklearn.model_selection.train_test_split(\n",
    "    train_set, train_size=0.1, stratify=train_set.requester_received_pizza, random_state=SEED)\n",
    "val_medium, _ = sklearn.model_selection.train_test_split(\n",
    "    val_set, train_size=0.1, stratify=val_set.requester_received_pizza, random_state=SEED)\n",
    "test_medium, _ = sklearn.model_selection.train_test_split(\n",
    "    test_set, train_size=0.1, stratify=test_set.requester_received_pizza, random_state=SEED)"
   ]
  },
  {
   "cell_type": "code",
   "execution_count": 62,
   "metadata": {},
   "outputs": [
    {
     "data": {
      "text/plain": [
       "(4524, 4524)"
      ]
     },
     "execution_count": 62,
     "metadata": {},
     "output_type": "execute_result"
    }
   ],
   "source": [
    "len(train_set) + len(val_set) + len(test_set), len(df)"
   ]
  },
  {
   "cell_type": "code",
   "execution_count": 63,
   "metadata": {},
   "outputs": [
    {
     "data": {
      "text/plain": [
       "(45, 4524)"
      ]
     },
     "execution_count": 63,
     "metadata": {},
     "output_type": "execute_result"
    }
   ],
   "source": [
    "len(train_mini) + len(val_mini) + len(test_mini), len(df)"
   ]
  },
  {
   "cell_type": "code",
   "execution_count": 64,
   "metadata": {},
   "outputs": [
    {
     "data": {
      "text/plain": [
       "0.5795873249815771"
      ]
     },
     "execution_count": 64,
     "metadata": {},
     "output_type": "execute_result"
    }
   ],
   "source": [
    "sum(train_set['requester_received_pizza'])/len(train_set)"
   ]
  },
  {
   "cell_type": "code",
   "execution_count": 65,
   "metadata": {},
   "outputs": [
    {
     "data": {
      "text/plain": [
       "0.580110497237569"
      ]
     },
     "execution_count": 65,
     "metadata": {},
     "output_type": "execute_result"
    }
   ],
   "source": [
    "sum(test_set['requester_received_pizza'])/len(test_set)"
   ]
  },
  {
   "cell_type": "code",
   "execution_count": 66,
   "metadata": {},
   "outputs": [
    {
     "data": {
      "text/plain": [
       "0.580110497237569"
      ]
     },
     "execution_count": 66,
     "metadata": {},
     "output_type": "execute_result"
    }
   ],
   "source": [
    "sum(val_set['requester_received_pizza'])/len(val_set)"
   ]
  },
  {
   "cell_type": "code",
   "execution_count": 67,
   "metadata": {},
   "outputs": [],
   "source": [
    "train_set.to_csv( \"train_all.csv\", index_label=\"request_id\")\n",
    "val_set.to_csv( \"val_all.csv\", index_label=\"request_id\")\n",
    "test_set.to_csv(\"test_all.csv\", index_label=\"request_id\")\n",
    "    \n",
    "train_medium.to_csv(\"train_medium.csv\", index_label=\"request_id\")\n",
    "val_medium.to_csv(\"val_medium.csv\", index_label=\"request_id\")\n",
    "test_medium.to_csv( \"test_medium.csv\", index_label=\"request_id\")\n",
    "    \n",
    "train_mini.to_csv( \"train_mini.csv\", index_label=\"request_id\")\n",
    "val_mini.to_csv(\"val_mini.csv\", index_label=\"request_id\")\n",
    "test_mini.to_csv(\"test_mini.csv\", index_label=\"request_id\")"
   ]
  },
  {
   "cell_type": "code",
   "execution_count": null,
   "metadata": {},
   "outputs": [],
   "source": []
  }
 ],
 "metadata": {
  "kernelspec": {
   "display_name": "Python 3",
   "language": "python",
   "name": "python3"
  },
  "language_info": {
   "codemirror_mode": {
    "name": "ipython",
    "version": 3
   },
   "file_extension": ".py",
   "mimetype": "text/x-python",
   "name": "python",
   "nbconvert_exporter": "python",
   "pygments_lexer": "ipython3",
   "version": "3.7.3"
  }
 },
 "nbformat": 4,
 "nbformat_minor": 2
}

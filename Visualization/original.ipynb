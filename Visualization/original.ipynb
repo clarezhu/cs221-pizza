{
 "cells": [
  {
   "cell_type": "code",
   "execution_count": 7,
   "metadata": {},
   "outputs": [],
   "source": [
    "import codecs\n",
    "import numpy as np\n",
    "import pandas as pd\n",
    "import json\n",
    "import os\n",
    "\n",
    "def read_dataset(path):\n",
    "    with codecs.open(path, 'r', 'utf-8') as myFile:\n",
    "        content = myFile.read()\n",
    "        dataset = json.loads(content)\n",
    "    return dataset"
   ]
  },
  {
   "cell_type": "code",
   "execution_count": 8,
   "metadata": {},
   "outputs": [],
   "source": [
    "DATA_DIR = \"../data/\""
   ]
  },
  {
   "cell_type": "code",
   "execution_count": 9,
   "metadata": {},
   "outputs": [],
   "source": [
    "path = os.path.join(DATA_DIR, 'pizza_request_dataset/pizza_request_dataset.json')\n",
    "dataset = read_dataset(path)\n",
    "\n",
    "data = pd.DataFrame(dataset)\n",
    "data = data.set_index(\"request_id\", verify_integrity=True)"
   ]
  },
  {
   "cell_type": "code",
   "execution_count": 10,
   "metadata": {},
   "outputs": [
    {
     "data": {
      "text/plain": [
       "Index(['giver_username_if_known', 'in_test_set',\n",
       "       'number_of_downvotes_of_request_at_retrieval',\n",
       "       'number_of_upvotes_of_request_at_retrieval', 'post_was_edited',\n",
       "       'request_number_of_comments_at_retrieval', 'request_text',\n",
       "       'request_text_edit_aware', 'request_title',\n",
       "       'requester_account_age_in_days_at_request',\n",
       "       'requester_account_age_in_days_at_retrieval',\n",
       "       'requester_days_since_first_post_on_raop_at_request',\n",
       "       'requester_days_since_first_post_on_raop_at_retrieval',\n",
       "       'requester_number_of_comments_at_request',\n",
       "       'requester_number_of_comments_at_retrieval',\n",
       "       'requester_number_of_comments_in_raop_at_request',\n",
       "       'requester_number_of_comments_in_raop_at_retrieval',\n",
       "       'requester_number_of_posts_at_request',\n",
       "       'requester_number_of_posts_at_retrieval',\n",
       "       'requester_number_of_posts_on_raop_at_request',\n",
       "       'requester_number_of_posts_on_raop_at_retrieval',\n",
       "       'requester_number_of_subreddits_at_request', 'requester_received_pizza',\n",
       "       'requester_subreddits_at_request',\n",
       "       'requester_upvotes_minus_downvotes_at_request',\n",
       "       'requester_upvotes_minus_downvotes_at_retrieval',\n",
       "       'requester_upvotes_plus_downvotes_at_request',\n",
       "       'requester_upvotes_plus_downvotes_at_retrieval', 'requester_user_flair',\n",
       "       'requester_username', 'unix_timestamp_of_request',\n",
       "       'unix_timestamp_of_request_utc'],\n",
       "      dtype='object')"
      ]
     },
     "execution_count": 10,
     "metadata": {},
     "output_type": "execute_result"
    }
   ],
   "source": [
    "data.columns"
   ]
  },
  {
   "cell_type": "code",
   "execution_count": 13,
   "metadata": {},
   "outputs": [],
   "source": [
    "usernames = data[\"giver_username_if_known\"]\n",
    "count = 0\n",
    "\n",
    "for username in usernames:\n",
    "    if username != \"N/A\":\n",
    "        count += 1"
   ]
  },
  {
   "cell_type": "code",
   "execution_count": 14,
   "metadata": {},
   "outputs": [
    {
     "name": "stdout",
     "output_type": "stream",
     "text": [
      "0.07053429730206313\n"
     ]
    }
   ],
   "source": [
    "print (count / len(usernames))"
   ]
  },
  {
   "cell_type": "code",
   "execution_count": null,
   "metadata": {},
   "outputs": [],
   "source": []
  }
 ],
 "metadata": {
  "kernelspec": {
   "display_name": "Python 3",
   "language": "python",
   "name": "python3"
  },
  "language_info": {
   "codemirror_mode": {
    "name": "ipython",
    "version": 3
   },
   "file_extension": ".py",
   "mimetype": "text/x-python",
   "name": "python",
   "nbconvert_exporter": "python",
   "pygments_lexer": "ipython3",
   "version": "3.7.3"
  }
 },
 "nbformat": 4,
 "nbformat_minor": 2
}

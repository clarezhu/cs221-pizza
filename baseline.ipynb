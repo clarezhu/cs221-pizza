{
 "cells": [
  {
   "cell_type": "code",
   "execution_count": 1,
   "metadata": {
    "ExecuteTime": {
     "end_time": "2019-10-25T02:40:12.794111Z",
     "start_time": "2019-10-25T02:40:11.755892Z"
    }
   },
   "outputs": [],
   "source": [
    "import pandas as pd\n",
    "import numpy as np\n",
    "import sklearn\n",
    "import seaborn as sns\n",
    "from matplotlib import pyplot as plt\n",
    "from sklearn.linear_model import LogisticRegression\n",
    "from sklearn.metrics import accuracy_score\n",
    "from sklearn.metrics import roc_auc_score\n",
    "from sklearn import model_selection\n",
    "from sklearn import feature_extraction\n",
    "import codecs\n",
    "import json\n",
    "import os"
   ]
  },
  {
   "cell_type": "code",
   "execution_count": 2,
   "metadata": {
    "ExecuteTime": {
     "end_time": "2019-10-25T02:40:12.797894Z",
     "start_time": "2019-10-25T02:40:12.795506Z"
    }
   },
   "outputs": [],
   "source": [
    "IMPORT = True\n",
    "EXPORT = True\n",
    "DISPLAY = True\n",
    "VERBOSE = False\n",
    "DATA_DIR = \"data/\"\n",
    "NARRATIVE_DIR = \"data/pizza_request_dataset/narratives\"\n",
    "SEED = 221"
   ]
  },
  {
   "cell_type": "code",
   "execution_count": 13,
   "metadata": {},
   "outputs": [],
   "source": [
    "def get_datasets(type='medium'):\n",
    "    if type not in ['medium', 'all', 'mini']:\n",
    "        raise Exception(\"Invalid type!\")\n",
    "    train_full, val_full = pd.read_csv(DATA_DIR + f'train_{type}.csv'), pd.read_csv(DATA_DIR + f'val_{type}.csv')\n",
    "    train_request_text, train_y = train_full['request_text'], train_full['requester_received_pizza']\n",
    "    val_request_text, val_y  = val_full['request_text'], val_full['requester_received_pizza']\n",
    "    return train_request_text, train_y, val_request_text, val_y"
   ]
  },
  {
   "cell_type": "code",
   "execution_count": 16,
   "metadata": {
    "ExecuteTime": {
     "end_time": "2019-10-25T02:40:12.871593Z",
     "start_time": "2019-10-25T02:40:12.799184Z"
    }
   },
   "outputs": [],
   "source": [
    "train_request_text, train_y, val_request_text, val_y = get_datasets()"
   ]
  },
  {
   "cell_type": "code",
   "execution_count": 17,
   "metadata": {
    "ExecuteTime": {
     "end_time": "2019-10-25T02:40:12.876898Z",
     "start_time": "2019-10-25T02:40:12.873033Z"
    }
   },
   "outputs": [
    {
     "data": {
      "text/plain": [
       "((330,), (110,))"
      ]
     },
     "execution_count": 17,
     "metadata": {},
     "output_type": "execute_result"
    }
   ],
   "source": [
    "train_y.shape, val_y.shape"
   ]
  },
  {
   "cell_type": "code",
   "execution_count": 24,
   "metadata": {
    "ExecuteTime": {
     "end_time": "2019-10-25T02:40:13.331137Z",
     "start_time": "2019-10-25T02:40:12.915029Z"
    }
   },
   "outputs": [],
   "source": [
    "def ngram_solver(train_request_text, train_y, val_request_text, test_y, ngram_size=1): \n",
    "    vectorizer = feature_extraction.text.CountVectorizer(ngram_range=(ngram_size,ngram_size))\n",
    "    vectorizer.fit(train_request_text) # build ngram dictionary\n",
    "    train_features = vectorizer.transform(train_request_text) \n",
    "    val_features = vectorizer.transform(val_request_text)\n",
    "    logreg = LogisticRegression()\n",
    "    logreg.fit(train_features, train_y)\n",
    "    y_pred = logreg.predict(val_features)\n",
    "    score = roc_auc_score(val_y,y_pred)\n",
    "    print(f'ROC AUC score for {ngram_size}-gram: {score}')"
   ]
  },
  {
   "cell_type": "code",
   "execution_count": 25,
   "metadata": {
    "ExecuteTime": {
     "end_time": "2019-10-25T02:40:13.431059Z",
     "start_time": "2019-10-25T02:40:13.428286Z"
    }
   },
   "outputs": [
    {
     "name": "stdout",
     "output_type": "stream",
     "text": [
      "ROC AUC score for 1-gram: 0.5203034359660865\n"
     ]
    },
    {
     "name": "stderr",
     "output_type": "stream",
     "text": [
      "/usr/local/lib/python3.7/site-packages/sklearn/linear_model/logistic.py:432: FutureWarning: Default solver will be changed to 'lbfgs' in 0.22. Specify a solver to silence this warning.\n",
      "  FutureWarning)\n"
     ]
    }
   ],
   "source": [
    "ngram_solver(train_request_text, train_y, val_request_text, val_y, ngram_size=1)"
   ]
  },
  {
   "cell_type": "code",
   "execution_count": 27,
   "metadata": {
    "ExecuteTime": {
     "end_time": "2019-10-25T02:40:13.627202Z",
     "start_time": "2019-10-25T02:40:13.432184Z"
    }
   },
   "outputs": [
    {
     "name": "stdout",
     "output_type": "stream",
     "text": [
      "ROC AUC score for 2-gram: 0.4939759036144578\n"
     ]
    },
    {
     "name": "stderr",
     "output_type": "stream",
     "text": [
      "/usr/local/lib/python3.7/site-packages/sklearn/linear_model/logistic.py:432: FutureWarning: Default solver will be changed to 'lbfgs' in 0.22. Specify a solver to silence this warning.\n",
      "  FutureWarning)\n"
     ]
    }
   ],
   "source": [
    "ngram_solver(train_request_text, train_y, val_request_text, val_y, ngram_size=2)"
   ]
  },
  {
   "cell_type": "code",
   "execution_count": 28,
   "metadata": {
    "ExecuteTime": {
     "end_time": "2019-10-25T02:40:13.633412Z",
     "start_time": "2019-10-25T02:40:13.630433Z"
    }
   },
   "outputs": [
    {
     "name": "stdout",
     "output_type": "stream",
     "text": [
      "ROC AUC score for 3-gram: 0.5\n"
     ]
    },
    {
     "name": "stderr",
     "output_type": "stream",
     "text": [
      "/usr/local/lib/python3.7/site-packages/sklearn/linear_model/logistic.py:432: FutureWarning: Default solver will be changed to 'lbfgs' in 0.22. Specify a solver to silence this warning.\n",
      "  FutureWarning)\n"
     ]
    }
   ],
   "source": [
    "ngram_solver(train_request_text, train_y, val_request_text, val_y, ngram_size=3)"
   ]
  },
  {
   "cell_type": "code",
   "execution_count": null,
   "metadata": {},
   "outputs": [],
   "source": []
  }
 ],
 "metadata": {
  "kernelspec": {
   "display_name": "Python 3",
   "language": "python",
   "name": "python3"
  },
  "language_info": {
   "codemirror_mode": {
    "name": "ipython",
    "version": 3
   },
   "file_extension": ".py",
   "mimetype": "text/x-python",
   "name": "python",
   "nbconvert_exporter": "python",
   "pygments_lexer": "ipython3",
   "version": "3.7.3"
  }
 },
 "nbformat": 4,
 "nbformat_minor": 2
}

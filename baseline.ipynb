{
 "cells": [
  {
   "cell_type": "code",
   "execution_count": 1,
   "metadata": {
    "ExecuteTime": {
     "end_time": "2019-10-25T02:40:12.794111Z",
     "start_time": "2019-10-25T02:40:11.755892Z"
    }
   },
   "outputs": [],
   "source": [
    "import pandas as pd\n",
    "import numpy as np\n",
    "import sklearn\n",
    "import seaborn as sns\n",
    "from matplotlib import pyplot as plt\n",
    "from sklearn.linear_model import LogisticRegression\n",
    "from sklearn.metrics import accuracy_score\n",
    "from sklearn.metrics import roc_auc_score\n",
    "from sklearn import model_selection\n",
    "from sklearn import feature_extraction\n",
    "import codecs\n",
    "import json\n",
    "import os"
   ]
  },
  {
   "cell_type": "code",
   "execution_count": 2,
   "metadata": {
    "ExecuteTime": {
     "end_time": "2019-10-25T02:40:12.797894Z",
     "start_time": "2019-10-25T02:40:12.795506Z"
    }
   },
   "outputs": [],
   "source": [
    "IMPORT = True\n",
    "EXPORT = True\n",
    "DISPLAY = True\n",
    "VERBOSE = False\n",
    "DATA_DIR = \"data/\"\n",
    "NARRATIVE_DIR = \"data/pizza_request_dataset/narratives\"\n",
    "SEED = 221"
   ]
  },
  {
   "cell_type": "code",
   "execution_count": 3,
   "metadata": {
    "ExecuteTime": {
     "end_time": "2019-10-25T02:40:12.871593Z",
     "start_time": "2019-10-25T02:40:12.799184Z"
    }
   },
   "outputs": [],
   "source": [
    "train_all = pd.read_csv(DATA_DIR + \"train_all.csv\")\n",
    "test_all = pd.read_csv(DATA_DIR + \"test_all.csv\")"
   ]
  },
  {
   "cell_type": "code",
   "execution_count": 4,
   "metadata": {
    "ExecuteTime": {
     "end_time": "2019-10-25T02:40:12.876898Z",
     "start_time": "2019-10-25T02:40:12.873033Z"
    }
   },
   "outputs": [
    {
     "data": {
      "text/plain": [
       "((3307, 33), (1103, 33))"
      ]
     },
     "execution_count": 4,
     "metadata": {},
     "output_type": "execute_result"
    }
   ],
   "source": [
    "train_all.shape, test_all.shape"
   ]
  },
  {
   "cell_type": "code",
   "execution_count": 5,
   "metadata": {
    "ExecuteTime": {
     "end_time": "2019-10-25T02:40:12.890692Z",
     "start_time": "2019-10-25T02:40:12.878228Z"
    }
   },
   "outputs": [
    {
     "data": {
      "text/plain": [
       "((3307, 33), (1103, 33))"
      ]
     },
     "execution_count": 5,
     "metadata": {},
     "output_type": "execute_result"
    }
   ],
   "source": [
    "train_all[pd.notnull(train_all['request_text'])].shape, test_all[pd.notnull(test_all['request_text'])].shape"
   ]
  },
  {
   "cell_type": "markdown",
   "metadata": {},
   "source": [
    "## Drop columns where request_text is NaN"
   ]
  },
  {
   "cell_type": "code",
   "execution_count": 6,
   "metadata": {
    "ExecuteTime": {
     "end_time": "2019-10-25T02:40:12.901347Z",
     "start_time": "2019-10-25T02:40:12.891882Z"
    }
   },
   "outputs": [],
   "source": [
    "train_all = train_all[pd.notnull(train_all['request_text'])]\n",
    "test_all = test_all[pd.notnull(test_all['request_text'])]"
   ]
  },
  {
   "cell_type": "code",
   "execution_count": 7,
   "metadata": {
    "ExecuteTime": {
     "end_time": "2019-10-25T02:40:12.913565Z",
     "start_time": "2019-10-25T02:40:12.902533Z"
    }
   },
   "outputs": [],
   "source": [
    "train_y = train_all['requester_received_pizza']\n",
    "train_request_text = train_all['request_text']\n",
    "\n",
    "test_y = test_all['requester_received_pizza']\n",
    "test_request_text = test_all['request_text']"
   ]
  },
  {
   "cell_type": "code",
   "execution_count": 8,
   "metadata": {
    "ExecuteTime": {
     "end_time": "2019-10-25T02:40:13.331137Z",
     "start_time": "2019-10-25T02:40:12.915029Z"
    }
   },
   "outputs": [],
   "source": [
    "ngram_size = 1\n",
    "vectorizer = feature_extraction.text.CountVectorizer(ngram_range=(ngram_size,ngram_size))\n",
    "vectorizer.fit(train_request_text) # build ngram dictionary\n",
    "train_features = vectorizer.transform(train_request_text) \n",
    "test_features = vectorizer.transform(test_request_text)"
   ]
  },
  {
   "cell_type": "code",
   "execution_count": 9,
   "metadata": {
    "ExecuteTime": {
     "end_time": "2019-10-25T02:40:13.335563Z",
     "start_time": "2019-10-25T02:40:13.332540Z"
    }
   },
   "outputs": [
    {
     "data": {
      "text/plain": [
       "<3307x11699 sparse matrix of type '<class 'numpy.int64'>'\n",
       "\twith 186357 stored elements in Compressed Sparse Row format>"
      ]
     },
     "execution_count": 9,
     "metadata": {},
     "output_type": "execute_result"
    }
   ],
   "source": [
    "train_features"
   ]
  },
  {
   "cell_type": "code",
   "execution_count": 10,
   "metadata": {
    "ExecuteTime": {
     "end_time": "2019-10-25T02:40:13.426871Z",
     "start_time": "2019-10-25T02:40:13.336946Z"
    }
   },
   "outputs": [
    {
     "name": "stdout",
     "output_type": "stream",
     "text": [
      "11699\n"
     ]
    }
   ],
   "source": [
    "print (len(train_features.toarray()[0]) )"
   ]
  },
  {
   "cell_type": "code",
   "execution_count": 11,
   "metadata": {
    "ExecuteTime": {
     "end_time": "2019-10-25T02:40:13.431059Z",
     "start_time": "2019-10-25T02:40:13.428286Z"
    }
   },
   "outputs": [
    {
     "data": {
      "text/plain": [
       "<1103x11699 sparse matrix of type '<class 'numpy.int64'>'\n",
       "\twith 58967 stored elements in Compressed Sparse Row format>"
      ]
     },
     "execution_count": 11,
     "metadata": {},
     "output_type": "execute_result"
    }
   ],
   "source": [
    "test_features"
   ]
  },
  {
   "cell_type": "code",
   "execution_count": 12,
   "metadata": {
    "ExecuteTime": {
     "end_time": "2019-10-25T02:40:13.627202Z",
     "start_time": "2019-10-25T02:40:13.432184Z"
    }
   },
   "outputs": [
    {
     "name": "stderr",
     "output_type": "stream",
     "text": [
      "/home/clare/anaconda3/lib/python3.7/site-packages/sklearn/linear_model/logistic.py:432: FutureWarning: Default solver will be changed to 'lbfgs' in 0.22. Specify a solver to silence this warning.\n",
      "  FutureWarning)\n"
     ]
    },
    {
     "data": {
      "text/plain": [
       "LogisticRegression(C=1.0, class_weight=None, dual=False, fit_intercept=True,\n",
       "                   intercept_scaling=1, l1_ratio=None, max_iter=100,\n",
       "                   multi_class='warn', n_jobs=None, penalty='l2',\n",
       "                   random_state=None, solver='warn', tol=0.0001, verbose=0,\n",
       "                   warm_start=False)"
      ]
     },
     "execution_count": 12,
     "metadata": {},
     "output_type": "execute_result"
    }
   ],
   "source": [
    "logreg = LogisticRegression()\n",
    "logreg.fit(train_features, train_y)"
   ]
  },
  {
   "cell_type": "code",
   "execution_count": 13,
   "metadata": {
    "ExecuteTime": {
     "end_time": "2019-10-25T02:40:13.633412Z",
     "start_time": "2019-10-25T02:40:13.630433Z"
    }
   },
   "outputs": [],
   "source": [
    "y_pred = logreg.predict(test_features)"
   ]
  },
  {
   "cell_type": "code",
   "execution_count": 14,
   "metadata": {
    "ExecuteTime": {
     "end_time": "2019-10-25T02:40:13.645435Z",
     "start_time": "2019-10-25T02:40:13.636475Z"
    }
   },
   "outputs": [
    {
     "name": "stdout",
     "output_type": "stream",
     "text": [
      "Accuracy of logistic regression classifier on test set: 0.71\n"
     ]
    }
   ],
   "source": [
    "print('Accuracy of logistic regression classifier on test set: {:.2f}'.format(logreg.score(test_features, test_y)))"
   ]
  },
  {
   "cell_type": "code",
   "execution_count": 15,
   "metadata": {
    "ExecuteTime": {
     "end_time": "2019-10-25T02:40:13.656956Z",
     "start_time": "2019-10-25T02:40:13.648405Z"
    }
   },
   "outputs": [
    {
     "name": "stdout",
     "output_type": "stream",
     "text": [
      "0.5560035133948178\n"
     ]
    }
   ],
   "source": [
    "print (roc_auc_score(test_y,y_pred))"
   ]
  },
  {
   "cell_type": "code",
   "execution_count": null,
   "metadata": {},
   "outputs": [],
   "source": []
  }
 ],
 "metadata": {
  "kernelspec": {
   "display_name": "Python [conda env:root] *",
   "language": "python",
   "name": "conda-root-py"
  },
  "language_info": {
   "codemirror_mode": {
    "name": "ipython",
    "version": 3
   },
   "file_extension": ".py",
   "mimetype": "text/x-python",
   "name": "python",
   "nbconvert_exporter": "python",
   "pygments_lexer": "ipython3",
   "version": "3.7.3"
  }
 },
 "nbformat": 4,
 "nbformat_minor": 2
}

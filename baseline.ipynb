{
 "cells": [
  {
   "cell_type": "code",
   "execution_count": 5,
   "metadata": {
    "ExecuteTime": {
     "end_time": "2019-10-25T04:08:16.676295Z",
     "start_time": "2019-10-25T04:08:15.188128Z"
    }
   },
   "outputs": [],
   "source": [
    "import pandas as pd\n",
    "import numpy as np\n",
    "import sklearn\n",
    "import seaborn as sns\n",
    "from matplotlib import pyplot as plt\n",
    "from sklearn.linear_model import LogisticRegression\n",
    "from sklearn.metrics import accuracy_score\n",
    "from sklearn.metrics import roc_auc_score\n",
    "from sklearn import model_selection\n",
    "from sklearn import feature_extraction\n",
    "import codecs\n",
    "import json\n",
    "import os"
   ]
  },
  {
   "cell_type": "code",
   "execution_count": 6,
   "metadata": {
    "ExecuteTime": {
     "end_time": "2019-10-25T04:08:16.680030Z",
     "start_time": "2019-10-25T04:08:16.677648Z"
    }
   },
   "outputs": [],
   "source": [
    "IMPORT = True\n",
    "EXPORT = True\n",
    "DISPLAY = True\n",
    "VERBOSE = False\n",
    "DATA_DIR = \"data/\"\n",
    "NARRATIVE_DIR = \"data/pizza_request_dataset/narratives\"\n",
    "SEED = 221"
   ]
  },
  {
   "cell_type": "code",
   "execution_count": 7,
   "metadata": {
    "ExecuteTime": {
     "end_time": "2019-10-25T04:08:16.696547Z",
     "start_time": "2019-10-25T04:08:16.681565Z"
    }
   },
   "outputs": [],
   "source": [
    "def get_datasets(type='medium'):\n",
    "    if type not in ['medium', 'all', 'mini']:\n",
    "        raise Exception(\"Invalid type!\")\n",
    "    train_full, val_full = pd.read_csv(DATA_DIR + f'train_{type}.csv'), pd.read_csv(DATA_DIR + f'val_{type}.csv')\n",
    "    train_request_text, train_y = train_full['request_text'], train_full['requester_received_pizza']\n",
    "    val_request_text, val_y  = val_full['request_text'], val_full['requester_received_pizza']\n",
    "    return train_request_text, train_y, val_request_text, val_y"
   ]
  },
  {
   "cell_type": "code",
   "execution_count": 8,
   "metadata": {
    "ExecuteTime": {
     "end_time": "2019-10-25T04:08:16.733598Z",
     "start_time": "2019-10-25T04:08:16.697976Z"
    }
   },
   "outputs": [],
   "source": [
    "train_request_text, train_y, val_request_text, val_y = get_datasets()"
   ]
  },
  {
   "cell_type": "code",
   "execution_count": 9,
   "metadata": {
    "ExecuteTime": {
     "end_time": "2019-10-25T04:08:16.740609Z",
     "start_time": "2019-10-25T04:08:16.734759Z"
    }
   },
   "outputs": [
    {
     "data": {
      "text/plain": [
       "((330,), (110,))"
      ]
     },
     "execution_count": 9,
     "metadata": {},
     "output_type": "execute_result"
    }
   ],
   "source": [
    "train_y.shape, val_y.shape"
   ]
  },
  {
   "cell_type": "code",
   "execution_count": 13,
   "metadata": {
    "ExecuteTime": {
     "end_time": "2019-10-25T04:08:16.752463Z",
     "start_time": "2019-10-25T04:08:16.742042Z"
    }
   },
   "outputs": [],
   "source": [
    "def ngram_solver(train_request_text, train_y, val_request_text, test_y, ngram_size=1): \n",
    "    vectorizer = feature_extraction.text.CountVectorizer(ngram_range=(ngram_size,ngram_size))\n",
    "    vectorizer.fit(train_request_text) # build ngram dictionary\n",
    "    train_features = vectorizer.transform(train_request_text) \n",
    "    print (train_features)\n",
    "    val_features = vectorizer.transform(val_request_text)\n",
    "    logreg = LogisticRegression()\n",
    "    logreg.fit(train_features, train_y)\n",
    "    y_pred = logreg.predict(val_features)\n",
    "    score = roc_auc_score(val_y,y_pred)\n",
    "    print(f'ROC AUC score for {ngram_size}-gram: {score}')"
   ]
  },
  {
   "cell_type": "code",
   "execution_count": 14,
   "metadata": {
    "ExecuteTime": {
     "end_time": "2019-10-25T04:08:16.861876Z",
     "start_time": "2019-10-25T04:08:16.794999Z"
    }
   },
   "outputs": [
    {
     "name": "stdout",
     "output_type": "stream",
     "text": [
      "  (0, 499)\t1\n",
      "  (0, 520)\t1\n",
      "  (0, 1397)\t1\n",
      "  (0, 1409)\t1\n",
      "  (0, 1426)\t1\n",
      "  (0, 1433)\t1\n",
      "  (0, 1577)\t1\n",
      "  (0, 1609)\t1\n",
      "  (0, 1897)\t1\n",
      "  (0, 1934)\t1\n",
      "  (0, 1964)\t2\n",
      "  (0, 2015)\t1\n",
      "  (0, 2056)\t1\n",
      "  (0, 2088)\t1\n",
      "  (0, 2232)\t1\n",
      "  (0, 2385)\t1\n",
      "  (0, 2758)\t1\n",
      "  (0, 2877)\t1\n",
      "  (0, 3017)\t1\n",
      "  (0, 3031)\t1\n",
      "  (0, 3123)\t1\n",
      "  (0, 3259)\t1\n",
      "  (0, 3349)\t2\n",
      "  (1, 273)\t1\n",
      "  (1, 350)\t1\n",
      "  :\t:\n",
      "  (329, 2187)\t1\n",
      "  (329, 2232)\t1\n",
      "  (329, 2367)\t1\n",
      "  (329, 2523)\t1\n",
      "  (329, 2625)\t1\n",
      "  (329, 2688)\t1\n",
      "  (329, 2715)\t1\n",
      "  (329, 2758)\t2\n",
      "  (329, 2774)\t2\n",
      "  (329, 2775)\t1\n",
      "  (329, 2861)\t1\n",
      "  (329, 2895)\t1\n",
      "  (329, 3008)\t1\n",
      "  (329, 3012)\t1\n",
      "  (329, 3015)\t2\n",
      "  (329, 3017)\t2\n",
      "  (329, 3035)\t2\n",
      "  (329, 3046)\t1\n",
      "  (329, 3081)\t4\n",
      "  (329, 3210)\t1\n",
      "  (329, 3219)\t1\n",
      "  (329, 3321)\t1\n",
      "  (329, 3337)\t1\n",
      "  (329, 3339)\t1\n",
      "  (329, 3349)\t1\n",
      "ROC AUC score for 1-gram: 0.537929495760821\n"
     ]
    },
    {
     "name": "stderr",
     "output_type": "stream",
     "text": [
      "/usr/local/lib/python3.7/site-packages/sklearn/linear_model/logistic.py:432: FutureWarning: Default solver will be changed to 'lbfgs' in 0.22. Specify a solver to silence this warning.\n",
      "  FutureWarning)\n"
     ]
    }
   ],
   "source": [
    "ngram_solver(train_request_text, train_y, val_request_text, val_y, ngram_size=1)"
   ]
  },
  {
   "cell_type": "code",
   "execution_count": 8,
   "metadata": {
    "ExecuteTime": {
     "end_time": "2019-10-25T04:08:17.343043Z",
     "start_time": "2019-10-25T04:08:17.227698Z"
    }
   },
   "outputs": [
    {
     "name": "stdout",
     "output_type": "stream",
     "text": [
      "ROC AUC score for 2-gram: 0.5185185185185185\n"
     ]
    },
    {
     "name": "stderr",
     "output_type": "stream",
     "text": [
      "/home/clare/anaconda3/lib/python3.7/site-packages/sklearn/linear_model/logistic.py:432: FutureWarning: Default solver will be changed to 'lbfgs' in 0.22. Specify a solver to silence this warning.\n",
      "  FutureWarning)\n"
     ]
    }
   ],
   "source": [
    "ngram_solver(train_request_text, train_y, val_request_text, val_y, ngram_size=2)"
   ]
  },
  {
   "cell_type": "code",
   "execution_count": 9,
   "metadata": {
    "ExecuteTime": {
     "end_time": "2019-10-25T04:08:17.869558Z",
     "start_time": "2019-10-25T04:08:17.769261Z"
    }
   },
   "outputs": [
    {
     "name": "stdout",
     "output_type": "stream",
     "text": [
      "ROC AUC score for 3-gram: 0.5\n"
     ]
    },
    {
     "name": "stderr",
     "output_type": "stream",
     "text": [
      "/home/clare/anaconda3/lib/python3.7/site-packages/sklearn/linear_model/logistic.py:432: FutureWarning: Default solver will be changed to 'lbfgs' in 0.22. Specify a solver to silence this warning.\n",
      "  FutureWarning)\n"
     ]
    }
   ],
   "source": [
    "ngram_solver(train_request_text, train_y, val_request_text, val_y, ngram_size=3)"
   ]
  },
  {
   "cell_type": "code",
   "execution_count": null,
   "metadata": {},
   "outputs": [],
   "source": []
  }
 ],
 "metadata": {
  "kernelspec": {
   "display_name": "Python 3",
   "language": "python",
   "name": "python3"
  },
  "language_info": {
   "codemirror_mode": {
    "name": "ipython",
    "version": 3
   },
   "file_extension": ".py",
   "mimetype": "text/x-python",
   "name": "python",
   "nbconvert_exporter": "python",
   "pygments_lexer": "ipython3",
   "version": "3.7.3"
  }
 },
 "nbformat": 4,
 "nbformat_minor": 2
}

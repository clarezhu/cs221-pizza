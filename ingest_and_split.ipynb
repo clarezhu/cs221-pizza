{
 "cells": [
  {
   "cell_type": "code",
   "execution_count": 2,
   "metadata": {
    "ExecuteTime": {
     "end_time": "2019-11-01T07:29:23.780498Z",
     "start_time": "2019-11-01T07:29:22.422866Z"
    }
   },
   "outputs": [],
   "source": [
    "import pandas as pd\n",
    "import numpy as np\n",
    "import sklearn\n",
    "import seaborn as sns\n",
    "from matplotlib import pyplot as plt\n",
    "from sklearn import model_selection\n",
    "\n",
    "import codecs\n",
    "import json\n",
    "import os"
   ]
  },
  {
   "cell_type": "code",
   "execution_count": 5,
   "metadata": {
    "ExecuteTime": {
     "end_time": "2019-11-01T07:29:23.784499Z",
     "start_time": "2019-11-01T07:29:23.781846Z"
    }
   },
   "outputs": [],
   "source": [
    "IMPORT = True\n",
    "EXPORT = True\n",
    "DISPLAY = True\n",
    "VERBOSE = True\n",
    "DATA_DIR = \"data\"\n",
    "SEED = 221"
   ]
  },
  {
   "cell_type": "code",
   "execution_count": 6,
   "metadata": {
    "ExecuteTime": {
     "end_time": "2019-11-01T07:29:23.898968Z",
     "start_time": "2019-11-01T07:29:23.790054Z"
    },
    "scrolled": true
   },
   "outputs": [
    {
     "name": "stdout",
     "output_type": "stream",
     "text": [
      "The dataset contains 5671 samples.\n",
      "Available attributes:  ['giver_username_if_known', 'in_test_set', 'number_of_downvotes_of_request_at_retrieval', 'number_of_upvotes_of_request_at_retrieval', 'post_was_edited', 'request_id', 'request_number_of_comments_at_retrieval', 'request_text', 'request_text_edit_aware', 'request_title', 'requester_account_age_in_days_at_request', 'requester_account_age_in_days_at_retrieval', 'requester_days_since_first_post_on_raop_at_request', 'requester_days_since_first_post_on_raop_at_retrieval', 'requester_number_of_comments_at_request', 'requester_number_of_comments_at_retrieval', 'requester_number_of_comments_in_raop_at_request', 'requester_number_of_comments_in_raop_at_retrieval', 'requester_number_of_posts_at_request', 'requester_number_of_posts_at_retrieval', 'requester_number_of_posts_on_raop_at_request', 'requester_number_of_posts_on_raop_at_retrieval', 'requester_number_of_subreddits_at_request', 'requester_received_pizza', 'requester_subreddits_at_request', 'requester_upvotes_minus_downvotes_at_request', 'requester_upvotes_minus_downvotes_at_retrieval', 'requester_upvotes_plus_downvotes_at_request', 'requester_upvotes_plus_downvotes_at_retrieval', 'requester_user_flair', 'requester_username', 'unix_timestamp_of_request', 'unix_timestamp_of_request_utc']\n",
      "First post:\n",
      "{\n",
      "  \"giver_username_if_known\": \"N/A\",\n",
      "  \"in_test_set\": false,\n",
      "  \"number_of_downvotes_of_request_at_retrieval\": 2,\n",
      "  \"number_of_upvotes_of_request_at_retrieval\": 6,\n",
      "  \"post_was_edited\": false,\n",
      "  \"request_id\": \"t3_w5491\",\n",
      "  \"request_number_of_comments_at_retrieval\": 7,\n",
      "  \"request_text\": \"I'm not in College, or a starving artist or anything like that. I've just been a bit unlucky lately. I'm a 36 year old single guy with a job. But rent, and other bills killed me this month. I thought I had enough funds in my account to at least keep me set with Mr. Noodles, I forgot about my monthly banking fee.\\n\\nI had a small bag of chips Wednesday afternoon, and I get paid Monday, so I'll be fine then.. It's just really painful at this point and food is something I'm constantly thinking about.\\n\\nI've got a few bucks to get on the bus to work on Saturday, so I can't really use that.\\n\\nI'm really embarrassed to even be asking like this and I'm not sure how it works, so please be patient with me.\\n\\nI guess that covers it. Thank you in advance.\\n\\nCheers folks.\",\n",
      "  \"request_text_edit_aware\": \"I'm not in College, or a starving artist or anything like that. I've just been a bit unlucky lately. I'm a 36 year old single guy with a job. But rent, and other bills killed me this month. I thought I had enough funds in my account to at least keep me set with Mr. Noodles, I forgot about my monthly banking fee.\\n\\nI had a small bag of chips Wednesday afternoon, and I get paid Monday, so I'll be fine then.. It's just really painful at this point and food is something I'm constantly thinking about.\\n\\nI've got a few bucks to get on the bus to work on Saturday, so I can't really use that.\\n\\nI'm really embarrassed to even be asking like this and I'm not sure how it works, so please be patient with me.\\n\\nI guess that covers it. Thank you in advance.\\n\\nCheers folks.\",\n",
      "  \"request_title\": \"[Request] Ontario, Canada - On my 3rd of 5 days without food, and it's getting unbearable. Can anyone help?\",\n",
      "  \"requester_account_age_in_days_at_request\": 14.416875,\n",
      "  \"requester_account_age_in_days_at_retrieval\": 531.9697222222222,\n",
      "  \"requester_days_since_first_post_on_raop_at_request\": 0.0,\n",
      "  \"requester_days_since_first_post_on_raop_at_retrieval\": 517.5111805555556,\n",
      "  \"requester_number_of_comments_at_request\": 8,\n",
      "  \"requester_number_of_comments_at_retrieval\": 93,\n",
      "  \"requester_number_of_comments_in_raop_at_request\": 0,\n",
      "  \"requester_number_of_comments_in_raop_at_retrieval\": 4,\n",
      "  \"requester_number_of_posts_at_request\": 1,\n",
      "  \"requester_number_of_posts_at_retrieval\": 6,\n",
      "  \"requester_number_of_posts_on_raop_at_request\": 0,\n",
      "  \"requester_number_of_posts_on_raop_at_retrieval\": 2,\n",
      "  \"requester_number_of_subreddits_at_request\": 8,\n",
      "  \"requester_received_pizza\": true,\n",
      "  \"requester_subreddits_at_request\": [\n",
      "    \"AdviceAnimals\",\n",
      "    \"WTF\",\n",
      "    \"funny\",\n",
      "    \"gaming\",\n",
      "    \"movies\",\n",
      "    \"technology\",\n",
      "    \"todayilearned\",\n",
      "    \"videos\"\n",
      "  ],\n",
      "  \"requester_upvotes_minus_downvotes_at_request\": 32,\n",
      "  \"requester_upvotes_minus_downvotes_at_retrieval\": 212,\n",
      "  \"requester_upvotes_plus_downvotes_at_request\": 48,\n",
      "  \"requester_upvotes_plus_downvotes_at_retrieval\": 610,\n",
      "  \"requester_user_flair\": \"shroom\",\n",
      "  \"requester_username\": \"RitalinYourMemory\",\n",
      "  \"unix_timestamp_of_request\": 1341604684.0,\n",
      "  \"unix_timestamp_of_request_utc\": 1341601084.0\n",
      "}\n",
      "The average success rate is: 24.63%\n"
     ]
    }
   ],
   "source": [
    "def read_dataset(path):\n",
    "    with codecs.open(path, 'r', 'utf-8') as myFile:\n",
    "        content = myFile.read()\n",
    "        dataset = json.loads(content)\n",
    "    return dataset\n",
    "\n",
    "if (IMPORT):\n",
    "    path = os.path.join(DATA_DIR, 'pizza_request_dataset/pizza_request_dataset.json')\n",
    "    dataset = read_dataset(path)\n",
    "  \n",
    "    if (VERBOSE):\n",
    "        print('The dataset contains %d samples.' %(len(dataset)))\n",
    "        print('Available attributes: ', sorted(dataset[0].keys()))\n",
    "        print('First post:')\n",
    "        print(json.dumps(dataset[0], sort_keys=True, indent=2))\n",
    "\n",
    "        successes = [r['requester_received_pizza'] for r in dataset]\n",
    "        success_rate = 100.0 * sum(successes) / float(len(successes))\n",
    "        print('The average success rate is: %.2f%%' %(success_rate))"
   ]
  },
  {
   "cell_type": "code",
   "execution_count": 4,
   "metadata": {
    "ExecuteTime": {
     "end_time": "2019-11-01T07:29:25.112780Z",
     "start_time": "2019-11-01T07:29:25.044027Z"
    }
   },
   "outputs": [
    {
     "data": {
      "text/html": [
       "<div>\n",
       "<style scoped>\n",
       "    .dataframe tbody tr th:only-of-type {\n",
       "        vertical-align: middle;\n",
       "    }\n",
       "\n",
       "    .dataframe tbody tr th {\n",
       "        vertical-align: top;\n",
       "    }\n",
       "\n",
       "    .dataframe thead th {\n",
       "        text-align: right;\n",
       "    }\n",
       "</style>\n",
       "<table border=\"1\" class=\"dataframe\">\n",
       "  <thead>\n",
       "    <tr style=\"text-align: right;\">\n",
       "      <th></th>\n",
       "      <th>giver_username_if_known</th>\n",
       "      <th>in_test_set</th>\n",
       "      <th>number_of_downvotes_of_request_at_retrieval</th>\n",
       "      <th>number_of_upvotes_of_request_at_retrieval</th>\n",
       "      <th>post_was_edited</th>\n",
       "      <th>request_number_of_comments_at_retrieval</th>\n",
       "      <th>request_text</th>\n",
       "      <th>request_text_edit_aware</th>\n",
       "      <th>request_title</th>\n",
       "      <th>requester_account_age_in_days_at_request</th>\n",
       "      <th>...</th>\n",
       "      <th>requester_received_pizza</th>\n",
       "      <th>requester_subreddits_at_request</th>\n",
       "      <th>requester_upvotes_minus_downvotes_at_request</th>\n",
       "      <th>requester_upvotes_minus_downvotes_at_retrieval</th>\n",
       "      <th>requester_upvotes_plus_downvotes_at_request</th>\n",
       "      <th>requester_upvotes_plus_downvotes_at_retrieval</th>\n",
       "      <th>requester_user_flair</th>\n",
       "      <th>requester_username</th>\n",
       "      <th>unix_timestamp_of_request</th>\n",
       "      <th>unix_timestamp_of_request_utc</th>\n",
       "    </tr>\n",
       "    <tr>\n",
       "      <th>request_id</th>\n",
       "      <th></th>\n",
       "      <th></th>\n",
       "      <th></th>\n",
       "      <th></th>\n",
       "      <th></th>\n",
       "      <th></th>\n",
       "      <th></th>\n",
       "      <th></th>\n",
       "      <th></th>\n",
       "      <th></th>\n",
       "      <th></th>\n",
       "      <th></th>\n",
       "      <th></th>\n",
       "      <th></th>\n",
       "      <th></th>\n",
       "      <th></th>\n",
       "      <th></th>\n",
       "      <th></th>\n",
       "      <th></th>\n",
       "      <th></th>\n",
       "      <th></th>\n",
       "    </tr>\n",
       "  </thead>\n",
       "  <tbody>\n",
       "    <tr>\n",
       "      <th>t3_w5491</th>\n",
       "      <td>N/A</td>\n",
       "      <td>False</td>\n",
       "      <td>2</td>\n",
       "      <td>6</td>\n",
       "      <td>False</td>\n",
       "      <td>7</td>\n",
       "      <td>I'm not in College, or a starving artist or an...</td>\n",
       "      <td>I'm not in College, or a starving artist or an...</td>\n",
       "      <td>[Request] Ontario, Canada - On my 3rd of 5 day...</td>\n",
       "      <td>14.416875</td>\n",
       "      <td>...</td>\n",
       "      <td>True</td>\n",
       "      <td>[AdviceAnimals, WTF, funny, gaming, movies, te...</td>\n",
       "      <td>32</td>\n",
       "      <td>212</td>\n",
       "      <td>48</td>\n",
       "      <td>610</td>\n",
       "      <td>shroom</td>\n",
       "      <td>RitalinYourMemory</td>\n",
       "      <td>1.341605e+09</td>\n",
       "      <td>1.341601e+09</td>\n",
       "    </tr>\n",
       "    <tr>\n",
       "      <th>t3_qysgy</th>\n",
       "      <td>N/A</td>\n",
       "      <td>False</td>\n",
       "      <td>2</td>\n",
       "      <td>6</td>\n",
       "      <td>True</td>\n",
       "      <td>8</td>\n",
       "      <td>Hello! It's been a hard 2 months with money an...</td>\n",
       "      <td>Hello! It's been a hard 2 months with money an...</td>\n",
       "      <td>[REQUEST] Southern Arizona, Tucson Hungry Family</td>\n",
       "      <td>11.957060</td>\n",
       "      <td>...</td>\n",
       "      <td>True</td>\n",
       "      <td>[aww, pics]</td>\n",
       "      <td>5</td>\n",
       "      <td>21</td>\n",
       "      <td>13</td>\n",
       "      <td>57</td>\n",
       "      <td>shroom</td>\n",
       "      <td>blubirdhvn</td>\n",
       "      <td>1.331868e+09</td>\n",
       "      <td>1.331865e+09</td>\n",
       "    </tr>\n",
       "    <tr>\n",
       "      <th>t3_if0ed</th>\n",
       "      <td>N/A</td>\n",
       "      <td>False</td>\n",
       "      <td>1</td>\n",
       "      <td>4</td>\n",
       "      <td>True</td>\n",
       "      <td>1</td>\n",
       "      <td>I'm sure there are needier people on this subr...</td>\n",
       "      <td>I'm sure there are needier people on this subr...</td>\n",
       "      <td>[Request] Pizza for a broke college student</td>\n",
       "      <td>454.388461</td>\n",
       "      <td>...</td>\n",
       "      <td>True</td>\n",
       "      <td>[AskReddit, DoesAnybodyElse, IAmA, Marijuana, ...</td>\n",
       "      <td>1359</td>\n",
       "      <td>2110</td>\n",
       "      <td>2423</td>\n",
       "      <td>3456</td>\n",
       "      <td>shroom</td>\n",
       "      <td>taterpot</td>\n",
       "      <td>1.309622e+09</td>\n",
       "      <td>1.309619e+09</td>\n",
       "    </tr>\n",
       "    <tr>\n",
       "      <th>t3_jr3w1</th>\n",
       "      <td>N/A</td>\n",
       "      <td>False</td>\n",
       "      <td>2</td>\n",
       "      <td>13</td>\n",
       "      <td>False</td>\n",
       "      <td>3</td>\n",
       "      <td>I've been unemployed going on three months now...</td>\n",
       "      <td>I've been unemployed going on three months now...</td>\n",
       "      <td>[Request] Unemployed and Sick of Rice (Suffolk...</td>\n",
       "      <td>141.715625</td>\n",
       "      <td>...</td>\n",
       "      <td>True</td>\n",
       "      <td>[AdviceAnimals, Art, AskReddit, BookCollecting...</td>\n",
       "      <td>1205</td>\n",
       "      <td>4889</td>\n",
       "      <td>2403</td>\n",
       "      <td>8245</td>\n",
       "      <td>shroom</td>\n",
       "      <td>or_me_bender</td>\n",
       "      <td>1.314060e+09</td>\n",
       "      <td>1.314056e+09</td>\n",
       "    </tr>\n",
       "    <tr>\n",
       "      <th>t3_1d18tc</th>\n",
       "      <td>N/A</td>\n",
       "      <td>False</td>\n",
       "      <td>1</td>\n",
       "      <td>4</td>\n",
       "      <td>1.36685e+09</td>\n",
       "      <td>5</td>\n",
       "      <td>I ran out of money on my meal card a while bac...</td>\n",
       "      <td>I ran out of money on my meal card a while bac...</td>\n",
       "      <td>[Request] Ohio USA, broke student musician in ...</td>\n",
       "      <td>161.699155</td>\n",
       "      <td>...</td>\n",
       "      <td>True</td>\n",
       "      <td>[TrueAtheism, atheism, funny]</td>\n",
       "      <td>81</td>\n",
       "      <td>86</td>\n",
       "      <td>225</td>\n",
       "      <td>232</td>\n",
       "      <td>shroom</td>\n",
       "      <td>m_chamberlin</td>\n",
       "      <td>1.366840e+09</td>\n",
       "      <td>1.366836e+09</td>\n",
       "    </tr>\n",
       "  </tbody>\n",
       "</table>\n",
       "<p>5 rows × 32 columns</p>\n",
       "</div>"
      ],
      "text/plain": [
       "           giver_username_if_known  in_test_set  \\\n",
       "request_id                                        \n",
       "t3_w5491                       N/A        False   \n",
       "t3_qysgy                       N/A        False   \n",
       "t3_if0ed                       N/A        False   \n",
       "t3_jr3w1                       N/A        False   \n",
       "t3_1d18tc                      N/A        False   \n",
       "\n",
       "            number_of_downvotes_of_request_at_retrieval  \\\n",
       "request_id                                                \n",
       "t3_w5491                                              2   \n",
       "t3_qysgy                                              2   \n",
       "t3_if0ed                                              1   \n",
       "t3_jr3w1                                              2   \n",
       "t3_1d18tc                                             1   \n",
       "\n",
       "            number_of_upvotes_of_request_at_retrieval post_was_edited  \\\n",
       "request_id                                                              \n",
       "t3_w5491                                            6           False   \n",
       "t3_qysgy                                            6            True   \n",
       "t3_if0ed                                            4            True   \n",
       "t3_jr3w1                                           13           False   \n",
       "t3_1d18tc                                           4     1.36685e+09   \n",
       "\n",
       "            request_number_of_comments_at_retrieval  \\\n",
       "request_id                                            \n",
       "t3_w5491                                          7   \n",
       "t3_qysgy                                          8   \n",
       "t3_if0ed                                          1   \n",
       "t3_jr3w1                                          3   \n",
       "t3_1d18tc                                         5   \n",
       "\n",
       "                                                 request_text  \\\n",
       "request_id                                                      \n",
       "t3_w5491    I'm not in College, or a starving artist or an...   \n",
       "t3_qysgy    Hello! It's been a hard 2 months with money an...   \n",
       "t3_if0ed    I'm sure there are needier people on this subr...   \n",
       "t3_jr3w1    I've been unemployed going on three months now...   \n",
       "t3_1d18tc   I ran out of money on my meal card a while bac...   \n",
       "\n",
       "                                      request_text_edit_aware  \\\n",
       "request_id                                                      \n",
       "t3_w5491    I'm not in College, or a starving artist or an...   \n",
       "t3_qysgy    Hello! It's been a hard 2 months with money an...   \n",
       "t3_if0ed    I'm sure there are needier people on this subr...   \n",
       "t3_jr3w1    I've been unemployed going on three months now...   \n",
       "t3_1d18tc   I ran out of money on my meal card a while bac...   \n",
       "\n",
       "                                                request_title  \\\n",
       "request_id                                                      \n",
       "t3_w5491    [Request] Ontario, Canada - On my 3rd of 5 day...   \n",
       "t3_qysgy     [REQUEST] Southern Arizona, Tucson Hungry Family   \n",
       "t3_if0ed          [Request] Pizza for a broke college student   \n",
       "t3_jr3w1    [Request] Unemployed and Sick of Rice (Suffolk...   \n",
       "t3_1d18tc   [Request] Ohio USA, broke student musician in ...   \n",
       "\n",
       "            requester_account_age_in_days_at_request  ...  \\\n",
       "request_id                                            ...   \n",
       "t3_w5491                                   14.416875  ...   \n",
       "t3_qysgy                                   11.957060  ...   \n",
       "t3_if0ed                                  454.388461  ...   \n",
       "t3_jr3w1                                  141.715625  ...   \n",
       "t3_1d18tc                                 161.699155  ...   \n",
       "\n",
       "            requester_received_pizza  \\\n",
       "request_id                             \n",
       "t3_w5491                        True   \n",
       "t3_qysgy                        True   \n",
       "t3_if0ed                        True   \n",
       "t3_jr3w1                        True   \n",
       "t3_1d18tc                       True   \n",
       "\n",
       "                              requester_subreddits_at_request  \\\n",
       "request_id                                                      \n",
       "t3_w5491    [AdviceAnimals, WTF, funny, gaming, movies, te...   \n",
       "t3_qysgy                                          [aww, pics]   \n",
       "t3_if0ed    [AskReddit, DoesAnybodyElse, IAmA, Marijuana, ...   \n",
       "t3_jr3w1    [AdviceAnimals, Art, AskReddit, BookCollecting...   \n",
       "t3_1d18tc                       [TrueAtheism, atheism, funny]   \n",
       "\n",
       "            requester_upvotes_minus_downvotes_at_request  \\\n",
       "request_id                                                 \n",
       "t3_w5491                                              32   \n",
       "t3_qysgy                                               5   \n",
       "t3_if0ed                                            1359   \n",
       "t3_jr3w1                                            1205   \n",
       "t3_1d18tc                                             81   \n",
       "\n",
       "            requester_upvotes_minus_downvotes_at_retrieval  \\\n",
       "request_id                                                   \n",
       "t3_w5491                                               212   \n",
       "t3_qysgy                                                21   \n",
       "t3_if0ed                                              2110   \n",
       "t3_jr3w1                                              4889   \n",
       "t3_1d18tc                                               86   \n",
       "\n",
       "            requester_upvotes_plus_downvotes_at_request  \\\n",
       "request_id                                                \n",
       "t3_w5491                                             48   \n",
       "t3_qysgy                                             13   \n",
       "t3_if0ed                                           2423   \n",
       "t3_jr3w1                                           2403   \n",
       "t3_1d18tc                                           225   \n",
       "\n",
       "            requester_upvotes_plus_downvotes_at_retrieval  \\\n",
       "request_id                                                  \n",
       "t3_w5491                                              610   \n",
       "t3_qysgy                                               57   \n",
       "t3_if0ed                                             3456   \n",
       "t3_jr3w1                                             8245   \n",
       "t3_1d18tc                                             232   \n",
       "\n",
       "            requester_user_flair  requester_username  \\\n",
       "request_id                                             \n",
       "t3_w5491                  shroom   RitalinYourMemory   \n",
       "t3_qysgy                  shroom          blubirdhvn   \n",
       "t3_if0ed                  shroom            taterpot   \n",
       "t3_jr3w1                  shroom        or_me_bender   \n",
       "t3_1d18tc                 shroom        m_chamberlin   \n",
       "\n",
       "            unix_timestamp_of_request  unix_timestamp_of_request_utc  \n",
       "request_id                                                            \n",
       "t3_w5491                 1.341605e+09                   1.341601e+09  \n",
       "t3_qysgy                 1.331868e+09                   1.331865e+09  \n",
       "t3_if0ed                 1.309622e+09                   1.309619e+09  \n",
       "t3_jr3w1                 1.314060e+09                   1.314056e+09  \n",
       "t3_1d18tc                1.366840e+09                   1.366836e+09  \n",
       "\n",
       "[5 rows x 32 columns]"
      ]
     },
     "execution_count": 4,
     "metadata": {},
     "output_type": "execute_result"
    }
   ],
   "source": [
    "data = pd.DataFrame(dataset)\n",
    "data = data.set_index(\"request_id\", verify_integrity=True)\n",
    "data.head()"
   ]
  },
  {
   "cell_type": "code",
   "execution_count": 5,
   "metadata": {
    "ExecuteTime": {
     "end_time": "2019-11-01T07:29:33.794787Z",
     "start_time": "2019-11-01T07:29:33.725324Z"
    }
   },
   "outputs": [
    {
     "name": "stdout",
     "output_type": "stream",
     "text": [
      "5671\n",
      "5513\n"
     ]
    }
   ],
   "source": [
    "print(len(data))\n",
    "data = data[~(data['request_text']==\"\")]\n",
    "data.request_text = data.request_text.str.replace(\"\\r\", \"\", regex=False)\n",
    "data.request_text_edit_aware = data.request_text_edit_aware.str.replace(\"\\r\", \"\", regex=False)\n",
    "print(len(data))"
   ]
  },
  {
   "cell_type": "code",
   "execution_count": 10,
   "metadata": {
    "ExecuteTime": {
     "end_time": "2019-11-01T07:30:37.420179Z",
     "start_time": "2019-11-01T07:30:37.415883Z"
    }
   },
   "outputs": [
    {
     "data": {
      "text/plain": [
       "array(['N/A', 'thisfreaknguy', 'omatrisha', 'bridgetonarnia',\n",
       "       'ghotisgirl06', 'dirtypaws', 'iamaredditer', 'wensul', 'jski5711',\n",
       "       'instant_japanese', 'whubbard', 'mclwlm', 'perezdev',\n",
       "       'halftheman1', 'starfireliz', 'tuckednip', 'fogdelune',\n",
       "       'overripebanana', 'coldheat', 'daner54', 'wchill', 'clarle',\n",
       "       'wingsalone', 'foki', 'ltshrink', 'mkeanon', 'b4tty0n3',\n",
       "       'logicday', 'synth3tk', 'womg', '_kill-fx_', 'idtugyourboat',\n",
       "       'mr_jeep', 'dontlikeclowns', 'harrisonfire',\n",
       "       'glinda_da_good_witch', 'jabberworx', 'clearmoon247', 'ynoty3k',\n",
       "       'i_like_owls', 'pizzamom', 'moomoocowninja', '1st_account_i_swear',\n",
       "       'osk213', 'shrapnull', '0mggames', 'minivansareevil',\n",
       "       'anarchyreigns', 'jesses_girl', 'in2itiveact', 'whosthatguru_v2',\n",
       "       'govalle', 'danilee88', 'abrham_smith', 'tdralston94', 'raxxarn',\n",
       "       'tanyagal2', 'bigbadjew', 'flamingcow', 'cdjpurple', 'omnomagon',\n",
       "       'erinpierce', 'zandyman', 'fivestarsoul', 'psm321', 'flipfapper',\n",
       "       'rainerios', 'drownyourfears', 'aboveyou5280', 'ryanxm', 'phreggs',\n",
       "       'antibread', 'gold-coin', 'odd-one-out', 'jetboyterp',\n",
       "       'livingmaster', 'providencepariah', 'thr', 'adamsstash',\n",
       "       'bgoodrbcareful', 'kingkaimaui', 'jeanralpheo', 'fancy_lad',\n",
       "       'lgm1117', 'neogodfather', 'generallyclueless', 'rammikins',\n",
       "       'mmmcandy', 'primio', 'dezmodez', 'photo', 'mfbyrne',\n",
       "       'goodgodamighty', 'enforce1', 'pookie85', 'm2nu', 'cutfloss',\n",
       "       'johngalt1337', 'madamepinkie', 'threedice', 'unmoderated',\n",
       "       'monkeyhouse', 'wrongwaykid', 'rhynovirus', 'stevevstheworld',\n",
       "       'scott2chicago', 'donitsu', 'massawyrm', 'leftnewdigg',\n",
       "       'mrsbirdies', 'jeremybeadle', 'stillurking', 'frankto',\n",
       "       'aggietimber', 'cmdbash', 'loki-laufeyson', 'kramapple',\n",
       "       'juggalofx', 'redditg0nad', 'beatnikbillygoat', 'djamberj',\n",
       "       'forlornhope22', 'realmkiller', 'oosp', 'gloriouspeanut',\n",
       "       'hand_out', 'gadianton', 'reillyboy', 'k-dawgg', 'ebitda1',\n",
       "       'jimswife9', 'tableofgeeks', 'sdtacoma', 'frankreynolds',\n",
       "       'incoherentrant', 'adidabiking', 'jengomez', 'ithinkimdoingthis',\n",
       "       'lettherebedwight', 'clashin74', 'vensik', 'ded_reckoning',\n",
       "       'carseycritter', 'foreignporn', 'airmanhand', 'incrediblep4ss',\n",
       "       'mstina', 'trollyx3', 'duckydoom', 'thegeorge', 'boatdude',\n",
       "       'ladyjanegr', 'yunododat', 'electronicsnailmail', 'sectorfour',\n",
       "       'clouds_rach', 'olivertw1st', 'kaboose666', 'coconutcake',\n",
       "       'raspberryseltzer', 'mexta', 'mooseindc', 'thelastman',\n",
       "       'twister17', 'kiltedman', 'my2penniesworth', 'idem22',\n",
       "       'arsenismzero', 'iheartsunrise04', 'secretsweetheart', 'egmose',\n",
       "       'lyricist', 'xxwinchell23xx', 'laskoriff', 'botw', 'moshimoochi',\n",
       "       'maverick44', 'dranai', 'deus_ex_eagles', 'gogogadgetstat',\n",
       "       'niteflirtgirl', 'kmlweather', 'raopanon', 'short_lurker',\n",
       "       'pastafariantwit', 'fugknuckles', 'zelmerszoetrop', 'menmybabies',\n",
       "       'astrogliide', 'hrnmyd', 'pseudo_prodigal_son', 'ch31415',\n",
       "       'iamaslacker246', 'locuester', 'iamseth', 'zstillman',\n",
       "       'thetruedarkone', 'deyona', 'tashiwa', 'yoasty', 'hungrytrex',\n",
       "       'cyndikins', 'prettyugly1', 'ahensen', 'fuqyocouch', 'evilsalmon',\n",
       "       'leochen', 'fatmanjogging', 'bceltics933', 'jay_niel',\n",
       "       'krashenbern', 'nathanpaulyoung', 'destudent', 'nygalz',\n",
       "       'your_never_alone', 'alxbnt', 'the_jury_is_out',\n",
       "       'better_with_salt', 'sartim', 'gama-go', 'dsledz', 'dalidala',\n",
       "       'ibaheir2dathrone', 'thedanindanger', 'cgkush', 'angiowhiz1',\n",
       "       'jme413', 'fastizio6176', 'solanumn', 'razzlethemall',\n",
       "       'boredaustralian', 'pkbooo', 'sgeng', 'khalki', 'kigood',\n",
       "       'fatalie', 'verygoodname', 'codemonkeylikefritos', 'jeffreyed',\n",
       "       'kornywayz', 'copred', 'hermanobluth', 'nandorocker', 'scrovak',\n",
       "       'z0bie', 'samantha797', 'hogfathom', 'donthatemasticate',\n",
       "       'hearip88', 'who_is_kaiser_soze', 'vinceidon', 'isothien', 'Yarrg',\n",
       "       'anotherguy2', 'toafka', 'yommey', 'biochrome', 'jayce513',\n",
       "       'Felipe_O', 'roxieh', 'chupanibre25', 'ninjaliwa',\n",
       "       'illgiveyouthekey', 'mcallanan', 'MsFit', 'ericisweird',\n",
       "       'thumpingarnt', 'neighborhoodstranger', 'sparty_party',\n",
       "       'rhystatic', 'immabeatchoo', 'blackleatherrain', 'stillers412',\n",
       "       'dyslexicpea', 'fuzzywumpkis', 'kgros004', 'caladanbrood23',\n",
       "       'elementalrain', 'cookiedoh', 'imperialviolet', 'pizzaman2012',\n",
       "       'straha21', 'odot522', 'palagoon', 'downey_ryan', 'crakhed',\n",
       "       'johnfactorial', 'danteburning', 'iamtheharpy', 'nelliebean',\n",
       "       'amarkson', 'morzinbo', 'minecraft_is_hipster', 'chalt0', 'benmk',\n",
       "       'paisley8827', 'pclinger', 'bubblegumgills', 'all_aflunters',\n",
       "       'sueolsen', 'mycatownsme', 'tarable', 'kimi21',\n",
       "       'iheartoptimusprime', 'delicatecrush', 'horny_toad2006', 'sjmoll',\n",
       "       'themanateeman', 'benkeiofthehillpeopl', 'trust_me_im_a_panda',\n",
       "       'laz42', 'brightdotcom', 'goodguygregirl', 'caladriel',\n",
       "       'mazdarx7guy', 'nicko9y', 'homeless_wonders', 'jenadactyl',\n",
       "       'pineapple_wolf', 'flawlessnoob', 'fobbingmobius', 'subliminal187',\n",
       "       'deathcabforpenguin', 'drsquishyhug', 'the_oneders', 'edrondol',\n",
       "       'salbito'], dtype=object)"
      ]
     },
     "execution_count": 10,
     "metadata": {},
     "output_type": "execute_result"
    }
   ],
   "source": [
    "givers = data.giver_username_if_known.unique()\n",
    "givers"
   ]
  },
  {
   "cell_type": "code",
   "execution_count": 9,
   "metadata": {
    "ExecuteTime": {
     "end_time": "2019-11-01T07:30:20.535274Z",
     "start_time": "2019-11-01T07:30:20.510598Z"
    }
   },
   "outputs": [
    {
     "data": {
      "text/html": [
       "<div>\n",
       "<style scoped>\n",
       "    .dataframe tbody tr th:only-of-type {\n",
       "        vertical-align: middle;\n",
       "    }\n",
       "\n",
       "    .dataframe tbody tr th {\n",
       "        vertical-align: top;\n",
       "    }\n",
       "\n",
       "    .dataframe thead th {\n",
       "        text-align: right;\n",
       "    }\n",
       "</style>\n",
       "<table border=\"1\" class=\"dataframe\">\n",
       "  <thead>\n",
       "    <tr style=\"text-align: right;\">\n",
       "      <th></th>\n",
       "      <th>giver_username_if_known</th>\n",
       "      <th>in_test_set</th>\n",
       "      <th>number_of_downvotes_of_request_at_retrieval</th>\n",
       "      <th>number_of_upvotes_of_request_at_retrieval</th>\n",
       "      <th>post_was_edited</th>\n",
       "      <th>request_number_of_comments_at_retrieval</th>\n",
       "      <th>request_text</th>\n",
       "      <th>request_text_edit_aware</th>\n",
       "      <th>request_title</th>\n",
       "      <th>requester_account_age_in_days_at_request</th>\n",
       "      <th>...</th>\n",
       "      <th>requester_received_pizza</th>\n",
       "      <th>requester_subreddits_at_request</th>\n",
       "      <th>requester_upvotes_minus_downvotes_at_request</th>\n",
       "      <th>requester_upvotes_minus_downvotes_at_retrieval</th>\n",
       "      <th>requester_upvotes_plus_downvotes_at_request</th>\n",
       "      <th>requester_upvotes_plus_downvotes_at_retrieval</th>\n",
       "      <th>requester_user_flair</th>\n",
       "      <th>requester_username</th>\n",
       "      <th>unix_timestamp_of_request</th>\n",
       "      <th>unix_timestamp_of_request_utc</th>\n",
       "    </tr>\n",
       "    <tr>\n",
       "      <th>request_id</th>\n",
       "      <th></th>\n",
       "      <th></th>\n",
       "      <th></th>\n",
       "      <th></th>\n",
       "      <th></th>\n",
       "      <th></th>\n",
       "      <th></th>\n",
       "      <th></th>\n",
       "      <th></th>\n",
       "      <th></th>\n",
       "      <th></th>\n",
       "      <th></th>\n",
       "      <th></th>\n",
       "      <th></th>\n",
       "      <th></th>\n",
       "      <th></th>\n",
       "      <th></th>\n",
       "      <th></th>\n",
       "      <th></th>\n",
       "      <th></th>\n",
       "      <th></th>\n",
       "    </tr>\n",
       "  </thead>\n",
       "  <tbody>\n",
       "    <tr>\n",
       "      <th>t3_16ecwy</th>\n",
       "      <td>jeremybeadle</td>\n",
       "      <td>False</td>\n",
       "      <td>1</td>\n",
       "      <td>6</td>\n",
       "      <td>False</td>\n",
       "      <td>0</td>\n",
       "      <td>Our family has been going through a rough time...</td>\n",
       "      <td>Our family has been going through a rough time...</td>\n",
       "      <td>[Request] Had a rough time lately and could us...</td>\n",
       "      <td>362.234630</td>\n",
       "      <td>...</td>\n",
       "      <td>True</td>\n",
       "      <td>[AdviceAnimals, AskReddit, RandomActsOfChristm...</td>\n",
       "      <td>1080</td>\n",
       "      <td>10028</td>\n",
       "      <td>3804</td>\n",
       "      <td>16922</td>\n",
       "      <td>PIF</td>\n",
       "      <td>kimi21</td>\n",
       "      <td>1.357937e+09</td>\n",
       "      <td>1.357937e+09</td>\n",
       "    </tr>\n",
       "    <tr>\n",
       "      <th>t3_1c796y</th>\n",
       "      <td>thegeorge</td>\n",
       "      <td>False</td>\n",
       "      <td>7</td>\n",
       "      <td>9</td>\n",
       "      <td>False</td>\n",
       "      <td>11</td>\n",
       "      <td>sorry, i am a reddit noob - trying to remember...</td>\n",
       "      <td>sorry, i am a reddit noob - trying to remember...</td>\n",
       "      <td>[Request] U.K. can anyone help a british broth...</td>\n",
       "      <td>155.399942</td>\n",
       "      <td>...</td>\n",
       "      <td>True</td>\n",
       "      <td>[AdviceAtheists, AskReddit, Graffiti, IAmA, br...</td>\n",
       "      <td>85</td>\n",
       "      <td>2215</td>\n",
       "      <td>111</td>\n",
       "      <td>3009</td>\n",
       "      <td>PIF</td>\n",
       "      <td>chalt0</td>\n",
       "      <td>1.365772e+09</td>\n",
       "      <td>1.365769e+09</td>\n",
       "    </tr>\n",
       "    <tr>\n",
       "      <th>t3_1idsgl</th>\n",
       "      <td>iamaslacker246</td>\n",
       "      <td>False</td>\n",
       "      <td>2</td>\n",
       "      <td>10</td>\n",
       "      <td>False</td>\n",
       "      <td>2</td>\n",
       "      <td>We're completely broke and craving pizza. I th...</td>\n",
       "      <td>We're completely broke and craving pizza. I th...</td>\n",
       "      <td>[Request] Spokane WA We're broke, I'm hormonal...</td>\n",
       "      <td>211.213854</td>\n",
       "      <td>...</td>\n",
       "      <td>True</td>\n",
       "      <td>[AHealthierMe, AdviceAnimals, Assistance, Chea...</td>\n",
       "      <td>2534</td>\n",
       "      <td>2762</td>\n",
       "      <td>3036</td>\n",
       "      <td>3286</td>\n",
       "      <td>PIF</td>\n",
       "      <td>duckydoom</td>\n",
       "      <td>1.373943e+09</td>\n",
       "      <td>1.373939e+09</td>\n",
       "    </tr>\n",
       "    <tr>\n",
       "      <th>t3_zwf27</th>\n",
       "      <td>N/A</td>\n",
       "      <td>False</td>\n",
       "      <td>1</td>\n",
       "      <td>2</td>\n",
       "      <td>False</td>\n",
       "      <td>0</td>\n",
       "      <td>I'm a 21 year old Boston college student and m...</td>\n",
       "      <td>I'm a 21 year old Boston college student and m...</td>\n",
       "      <td>[Request] Hungry and Broke College Girl</td>\n",
       "      <td>249.715822</td>\n",
       "      <td>...</td>\n",
       "      <td>True</td>\n",
       "      <td>[AdviceAnimals, AskReddit, Cloud, Dreams, IAmA...</td>\n",
       "      <td>2340</td>\n",
       "      <td>2366</td>\n",
       "      <td>4746</td>\n",
       "      <td>4780</td>\n",
       "      <td>PIF</td>\n",
       "      <td>jme413</td>\n",
       "      <td>1.347666e+09</td>\n",
       "      <td>1.347662e+09</td>\n",
       "    </tr>\n",
       "    <tr>\n",
       "      <th>t3_187fqj</th>\n",
       "      <td>N/A</td>\n",
       "      <td>False</td>\n",
       "      <td>2</td>\n",
       "      <td>10</td>\n",
       "      <td>False</td>\n",
       "      <td>0</td>\n",
       "      <td>My very first post on Reddit was to give a piz...</td>\n",
       "      <td>My very first post on Reddit was to give a piz...</td>\n",
       "      <td>[Request] Maine - Given pizzas twice, asking f...</td>\n",
       "      <td>251.005590</td>\n",
       "      <td>...</td>\n",
       "      <td>False</td>\n",
       "      <td>[AskReddit, Baking, EmersonCollege, Fitness, R...</td>\n",
       "      <td>81</td>\n",
       "      <td>186</td>\n",
       "      <td>119</td>\n",
       "      <td>254</td>\n",
       "      <td>None</td>\n",
       "      <td>deus_ex_eagles</td>\n",
       "      <td>1.360439e+09</td>\n",
       "      <td>1.360439e+09</td>\n",
       "    </tr>\n",
       "    <tr>\n",
       "      <th>t3_tv7zq</th>\n",
       "      <td>amarkson</td>\n",
       "      <td>True</td>\n",
       "      <td>0</td>\n",
       "      <td>2</td>\n",
       "      <td>False</td>\n",
       "      <td>9</td>\n",
       "      <td>I have given a couple times on here, and it's ...</td>\n",
       "      <td>I have given a couple times on here, and it's ...</td>\n",
       "      <td>[Request] TN ~ want to celebrate son finishing...</td>\n",
       "      <td>128.095347</td>\n",
       "      <td>...</td>\n",
       "      <td>True</td>\n",
       "      <td>[AskReddit, AskWomen, BeardPorn, HIFW, Parenti...</td>\n",
       "      <td>327</td>\n",
       "      <td>550</td>\n",
       "      <td>507</td>\n",
       "      <td>802</td>\n",
       "      <td>PIF</td>\n",
       "      <td>ithinkimdoingthis</td>\n",
       "      <td>1.337469e+09</td>\n",
       "      <td>1.337466e+09</td>\n",
       "    </tr>\n",
       "  </tbody>\n",
       "</table>\n",
       "<p>6 rows × 32 columns</p>\n",
       "</div>"
      ],
      "text/plain": [
       "           giver_username_if_known  in_test_set  \\\n",
       "request_id                                        \n",
       "t3_16ecwy             jeremybeadle        False   \n",
       "t3_1c796y                thegeorge        False   \n",
       "t3_1idsgl           iamaslacker246        False   \n",
       "t3_zwf27                       N/A        False   \n",
       "t3_187fqj                      N/A        False   \n",
       "t3_tv7zq                  amarkson         True   \n",
       "\n",
       "            number_of_downvotes_of_request_at_retrieval  \\\n",
       "request_id                                                \n",
       "t3_16ecwy                                             1   \n",
       "t3_1c796y                                             7   \n",
       "t3_1idsgl                                             2   \n",
       "t3_zwf27                                              1   \n",
       "t3_187fqj                                             2   \n",
       "t3_tv7zq                                              0   \n",
       "\n",
       "            number_of_upvotes_of_request_at_retrieval post_was_edited  \\\n",
       "request_id                                                              \n",
       "t3_16ecwy                                           6           False   \n",
       "t3_1c796y                                           9           False   \n",
       "t3_1idsgl                                          10           False   \n",
       "t3_zwf27                                            2           False   \n",
       "t3_187fqj                                          10           False   \n",
       "t3_tv7zq                                            2           False   \n",
       "\n",
       "            request_number_of_comments_at_retrieval  \\\n",
       "request_id                                            \n",
       "t3_16ecwy                                         0   \n",
       "t3_1c796y                                        11   \n",
       "t3_1idsgl                                         2   \n",
       "t3_zwf27                                          0   \n",
       "t3_187fqj                                         0   \n",
       "t3_tv7zq                                          9   \n",
       "\n",
       "                                                 request_text  \\\n",
       "request_id                                                      \n",
       "t3_16ecwy   Our family has been going through a rough time...   \n",
       "t3_1c796y   sorry, i am a reddit noob - trying to remember...   \n",
       "t3_1idsgl   We're completely broke and craving pizza. I th...   \n",
       "t3_zwf27    I'm a 21 year old Boston college student and m...   \n",
       "t3_187fqj   My very first post on Reddit was to give a piz...   \n",
       "t3_tv7zq    I have given a couple times on here, and it's ...   \n",
       "\n",
       "                                      request_text_edit_aware  \\\n",
       "request_id                                                      \n",
       "t3_16ecwy   Our family has been going through a rough time...   \n",
       "t3_1c796y   sorry, i am a reddit noob - trying to remember...   \n",
       "t3_1idsgl   We're completely broke and craving pizza. I th...   \n",
       "t3_zwf27    I'm a 21 year old Boston college student and m...   \n",
       "t3_187fqj   My very first post on Reddit was to give a piz...   \n",
       "t3_tv7zq    I have given a couple times on here, and it's ...   \n",
       "\n",
       "                                                request_title  \\\n",
       "request_id                                                      \n",
       "t3_16ecwy   [Request] Had a rough time lately and could us...   \n",
       "t3_1c796y   [Request] U.K. can anyone help a british broth...   \n",
       "t3_1idsgl   [Request] Spokane WA We're broke, I'm hormonal...   \n",
       "t3_zwf27              [Request] Hungry and Broke College Girl   \n",
       "t3_187fqj   [Request] Maine - Given pizzas twice, asking f...   \n",
       "t3_tv7zq    [Request] TN ~ want to celebrate son finishing...   \n",
       "\n",
       "            requester_account_age_in_days_at_request  ...  \\\n",
       "request_id                                            ...   \n",
       "t3_16ecwy                                 362.234630  ...   \n",
       "t3_1c796y                                 155.399942  ...   \n",
       "t3_1idsgl                                 211.213854  ...   \n",
       "t3_zwf27                                  249.715822  ...   \n",
       "t3_187fqj                                 251.005590  ...   \n",
       "t3_tv7zq                                  128.095347  ...   \n",
       "\n",
       "            requester_received_pizza  \\\n",
       "request_id                             \n",
       "t3_16ecwy                       True   \n",
       "t3_1c796y                       True   \n",
       "t3_1idsgl                       True   \n",
       "t3_zwf27                        True   \n",
       "t3_187fqj                      False   \n",
       "t3_tv7zq                        True   \n",
       "\n",
       "                              requester_subreddits_at_request  \\\n",
       "request_id                                                      \n",
       "t3_16ecwy   [AdviceAnimals, AskReddit, RandomActsOfChristm...   \n",
       "t3_1c796y   [AdviceAtheists, AskReddit, Graffiti, IAmA, br...   \n",
       "t3_1idsgl   [AHealthierMe, AdviceAnimals, Assistance, Chea...   \n",
       "t3_zwf27    [AdviceAnimals, AskReddit, Cloud, Dreams, IAmA...   \n",
       "t3_187fqj   [AskReddit, Baking, EmersonCollege, Fitness, R...   \n",
       "t3_tv7zq    [AskReddit, AskWomen, BeardPorn, HIFW, Parenti...   \n",
       "\n",
       "            requester_upvotes_minus_downvotes_at_request  \\\n",
       "request_id                                                 \n",
       "t3_16ecwy                                           1080   \n",
       "t3_1c796y                                             85   \n",
       "t3_1idsgl                                           2534   \n",
       "t3_zwf27                                            2340   \n",
       "t3_187fqj                                             81   \n",
       "t3_tv7zq                                             327   \n",
       "\n",
       "            requester_upvotes_minus_downvotes_at_retrieval  \\\n",
       "request_id                                                   \n",
       "t3_16ecwy                                            10028   \n",
       "t3_1c796y                                             2215   \n",
       "t3_1idsgl                                             2762   \n",
       "t3_zwf27                                              2366   \n",
       "t3_187fqj                                              186   \n",
       "t3_tv7zq                                               550   \n",
       "\n",
       "            requester_upvotes_plus_downvotes_at_request  \\\n",
       "request_id                                                \n",
       "t3_16ecwy                                          3804   \n",
       "t3_1c796y                                           111   \n",
       "t3_1idsgl                                          3036   \n",
       "t3_zwf27                                           4746   \n",
       "t3_187fqj                                           119   \n",
       "t3_tv7zq                                            507   \n",
       "\n",
       "            requester_upvotes_plus_downvotes_at_retrieval  \\\n",
       "request_id                                                  \n",
       "t3_16ecwy                                           16922   \n",
       "t3_1c796y                                            3009   \n",
       "t3_1idsgl                                            3286   \n",
       "t3_zwf27                                             4780   \n",
       "t3_187fqj                                             254   \n",
       "t3_tv7zq                                              802   \n",
       "\n",
       "            requester_user_flair  requester_username  \\\n",
       "request_id                                             \n",
       "t3_16ecwy                    PIF              kimi21   \n",
       "t3_1c796y                    PIF              chalt0   \n",
       "t3_1idsgl                    PIF           duckydoom   \n",
       "t3_zwf27                     PIF              jme413   \n",
       "t3_187fqj                   None      deus_ex_eagles   \n",
       "t3_tv7zq                     PIF   ithinkimdoingthis   \n",
       "\n",
       "            unix_timestamp_of_request  unix_timestamp_of_request_utc  \n",
       "request_id                                                            \n",
       "t3_16ecwy                1.357937e+09                   1.357937e+09  \n",
       "t3_1c796y                1.365772e+09                   1.365769e+09  \n",
       "t3_1idsgl                1.373943e+09                   1.373939e+09  \n",
       "t3_zwf27                 1.347666e+09                   1.347662e+09  \n",
       "t3_187fqj                1.360439e+09                   1.360439e+09  \n",
       "t3_tv7zq                 1.337469e+09                   1.337466e+09  \n",
       "\n",
       "[6 rows x 32 columns]"
      ]
     },
     "execution_count": 9,
     "metadata": {},
     "output_type": "execute_result"
    }
   ],
   "source": [
    "data[data.requester_username.isin(givers)]"
   ]
  },
  {
   "cell_type": "code",
   "execution_count": null,
   "metadata": {},
   "outputs": [],
   "source": []
  },
  {
   "cell_type": "markdown",
   "metadata": {},
   "source": [
    "# Make splits while maintaining class balance"
   ]
  },
  {
   "cell_type": "code",
   "execution_count": 6,
   "metadata": {
    "ExecuteTime": {
     "end_time": "2019-10-25T02:40:17.171869Z",
     "start_time": "2019-10-25T02:40:17.169600Z"
    }
   },
   "outputs": [],
   "source": [
    "splits = [0.6, 0.2, 0.2]"
   ]
  },
  {
   "cell_type": "code",
   "execution_count": 7,
   "metadata": {
    "ExecuteTime": {
     "end_time": "2019-10-25T02:40:17.189567Z",
     "start_time": "2019-10-25T02:40:17.173174Z"
    }
   },
   "outputs": [],
   "source": [
    "train_and_val, test_set = sklearn.model_selection.train_test_split(\n",
    "    data, test_size=0.2, stratify=data.requester_received_pizza, random_state=SEED)"
   ]
  },
  {
   "cell_type": "code",
   "execution_count": 8,
   "metadata": {
    "ExecuteTime": {
     "end_time": "2019-10-25T02:40:17.202507Z",
     "start_time": "2019-10-25T02:40:17.191226Z"
    }
   },
   "outputs": [],
   "source": [
    "train_set, val_set = sklearn.model_selection.train_test_split(\n",
    "    train_and_val, test_size=0.25, stratify=train_and_val.requester_received_pizza,\n",
    "    random_state=SEED)"
   ]
  },
  {
   "cell_type": "code",
   "execution_count": 9,
   "metadata": {
    "ExecuteTime": {
     "end_time": "2019-10-25T02:40:17.230522Z",
     "start_time": "2019-10-25T02:40:17.203889Z"
    }
   },
   "outputs": [],
   "source": [
    "train_mini, _ = sklearn.model_selection.train_test_split(\n",
    "    train_set, train_size=0.01, stratify=train_set.requester_received_pizza, random_state=SEED)\n",
    "val_mini, _ = sklearn.model_selection.train_test_split(\n",
    "    val_set, train_size=0.01, stratify=val_set.requester_received_pizza, random_state=SEED)\n",
    "test_mini, _ = sklearn.model_selection.train_test_split(\n",
    "    test_set, train_size=0.01, stratify=test_set.requester_received_pizza, random_state=SEED)\n",
    "\n",
    "train_medium, _ = sklearn.model_selection.train_test_split(\n",
    "    train_set, train_size=0.1, stratify=train_set.requester_received_pizza, random_state=SEED)\n",
    "val_medium, _ = sklearn.model_selection.train_test_split(\n",
    "    val_set, train_size=0.1, stratify=val_set.requester_received_pizza, random_state=SEED)\n",
    "test_medium, _ = sklearn.model_selection.train_test_split(\n",
    "    test_set, train_size=0.1, stratify=test_set.requester_received_pizza, random_state=SEED)"
   ]
  },
  {
   "cell_type": "markdown",
   "metadata": {},
   "source": [
    "## Ensure the number of total examples is the same\n",
    "We're missing 3 examples, likely from rounding error. Should be fine"
   ]
  },
  {
   "cell_type": "code",
   "execution_count": 10,
   "metadata": {
    "ExecuteTime": {
     "end_time": "2019-10-25T02:40:17.237100Z",
     "start_time": "2019-10-25T02:40:17.233536Z"
    }
   },
   "outputs": [
    {
     "data": {
      "text/plain": [
       "(5513, 5513)"
      ]
     },
     "execution_count": 10,
     "metadata": {},
     "output_type": "execute_result"
    }
   ],
   "source": [
    "len(train_set) + len(val_set) + len(test_set), len(data)"
   ]
  },
  {
   "cell_type": "code",
   "execution_count": 11,
   "metadata": {
    "ExecuteTime": {
     "end_time": "2019-10-25T02:40:17.247533Z",
     "start_time": "2019-10-25T02:40:17.238161Z"
    }
   },
   "outputs": [
    {
     "data": {
      "text/plain": [
       "(55, 5513)"
      ]
     },
     "execution_count": 11,
     "metadata": {},
     "output_type": "execute_result"
    }
   ],
   "source": [
    "len(train_mini) + len(val_mini) + len(test_mini), len(data)"
   ]
  },
  {
   "cell_type": "markdown",
   "metadata": {},
   "source": [
    "## Check class balance"
   ]
  },
  {
   "cell_type": "code",
   "execution_count": 12,
   "metadata": {
    "ExecuteTime": {
     "end_time": "2019-10-25T02:40:17.261000Z",
     "start_time": "2019-10-25T02:40:17.249198Z"
    }
   },
   "outputs": [
    {
     "data": {
      "text/plain": [
       "0.24977320834593286"
      ]
     },
     "execution_count": 12,
     "metadata": {},
     "output_type": "execute_result"
    }
   ],
   "source": [
    "len(train_set[train_set.requester_received_pizza])/len(train_set)"
   ]
  },
  {
   "cell_type": "code",
   "execution_count": 13,
   "metadata": {
    "ExecuteTime": {
     "end_time": "2019-10-25T02:40:17.277156Z",
     "start_time": "2019-10-25T02:40:17.262505Z"
    }
   },
   "outputs": [
    {
     "data": {
      "text/plain": [
       "0.24932003626473254"
      ]
     },
     "execution_count": 13,
     "metadata": {},
     "output_type": "execute_result"
    }
   ],
   "source": [
    "len(val_set[val_set.requester_received_pizza])/len(val_set)"
   ]
  },
  {
   "cell_type": "code",
   "execution_count": 14,
   "metadata": {
    "ExecuteTime": {
     "end_time": "2019-10-25T02:40:17.290750Z",
     "start_time": "2019-10-25T02:40:17.278233Z"
    }
   },
   "outputs": [
    {
     "data": {
      "text/plain": [
       "0.24932003626473254"
      ]
     },
     "execution_count": 14,
     "metadata": {},
     "output_type": "execute_result"
    }
   ],
   "source": [
    "len(test_set[test_set.requester_received_pizza])/len(test_set)"
   ]
  },
  {
   "cell_type": "code",
   "execution_count": 15,
   "metadata": {
    "ExecuteTime": {
     "end_time": "2019-10-25T02:40:17.303888Z",
     "start_time": "2019-10-25T02:40:17.291795Z"
    }
   },
   "outputs": [
    {
     "data": {
      "text/plain": [
       "'\"I work for a section of my university that cleans windows. They have been trying to shut us down for a while since we don\\'t bring in money just cost it. We had a meeting with our boss and she Informed us that we will not have jobs after this week. We where told the reason why was no room in the budget. Well I don\\'t have room in my budget to not get a pay check anymore. Thank you for helping and thank you for listening. \"'"
      ]
     },
     "execution_count": 15,
     "metadata": {},
     "output_type": "execute_result"
    }
   ],
   "source": [
    "repr(train_set.loc[\"t3_1niqoy\"].request_text_edit_aware)"
   ]
  },
  {
   "cell_type": "markdown",
   "metadata": {},
   "source": [
    "# Export as csvs"
   ]
  },
  {
   "cell_type": "code",
   "execution_count": 16,
   "metadata": {
    "ExecuteTime": {
     "end_time": "2019-10-25T02:40:17.568351Z",
     "start_time": "2019-10-25T02:40:17.305063Z"
    }
   },
   "outputs": [],
   "source": [
    "if (EXPORT):\n",
    "    train_set.to_csv(os.path.join(DATA_DIR, \"train_all.csv\"), index_label=\"request_id\")\n",
    "    val_set.to_csv(os.path.join(DATA_DIR, \"val_all.csv\"), index_label=\"request_id\")\n",
    "    test_set.to_csv(os.path.join(DATA_DIR, \"test_all.csv\"), index_label=\"request_id\")\n",
    "    \n",
    "    train_medium.to_csv(os.path.join(DATA_DIR, \"train_medium.csv\"), index_label=\"request_id\")\n",
    "    val_medium.to_csv(os.path.join(DATA_DIR, \"val_medium.csv\"), index_label=\"request_id\")\n",
    "    test_medium.to_csv(os.path.join(DATA_DIR, \"test_medium.csv\"), index_label=\"request_id\")\n",
    "    \n",
    "    train_mini.to_csv(os.path.join(DATA_DIR, \"train_mini.csv\"), index_label=\"request_id\")\n",
    "    val_mini.to_csv(os.path.join(DATA_DIR, \"val_mini.csv\"), index_label=\"request_id\")\n",
    "    test_mini.to_csv(os.path.join(DATA_DIR, \"test_mini.csv\"), index_label=\"request_id\")"
   ]
  },
  {
   "cell_type": "code",
   "execution_count": null,
   "metadata": {},
   "outputs": [],
   "source": []
  }
 ],
 "metadata": {
  "kernelspec": {
   "display_name": "Python 3",
   "language": "python",
   "name": "python3"
  },
  "language_info": {
   "codemirror_mode": {
    "name": "ipython",
    "version": 3
   },
   "file_extension": ".py",
   "mimetype": "text/x-python",
   "name": "python",
   "nbconvert_exporter": "python",
   "pygments_lexer": "ipython3",
   "version": "3.6.9"
  }
 },
 "nbformat": 4,
 "nbformat_minor": 2
}

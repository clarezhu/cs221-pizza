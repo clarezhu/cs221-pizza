{
 "cells": [
  {
   "cell_type": "code",
   "execution_count": 2,
   "metadata": {
    "ExecuteTime": {
     "end_time": "2019-10-25T02:03:10.590995Z",
     "start_time": "2019-10-25T02:03:09.947272Z"
    }
   },
   "outputs": [],
   "source": [
    "import pandas as pd\n",
    "import numpy as np\n",
    "import sklearn\n",
    "import seaborn as sns\n",
    "from matplotlib import pyplot as plt\n",
    "from sklearn import model_selection\n",
    "\n",
    "import codecs\n",
    "import json\n",
    "import os"
   ]
  },
  {
   "cell_type": "code",
   "execution_count": 3,
   "metadata": {
    "ExecuteTime": {
     "end_time": "2019-10-25T02:03:10.594521Z",
     "start_time": "2019-10-25T02:03:10.592359Z"
    }
   },
   "outputs": [],
   "source": [
    "IMPORT = True\n",
    "EXPORT = True\n",
    "DISPLAY = True\n",
    "VERBOSE = False\n",
    "DATA_DIR = \"data\"\n",
    "SEED = 221"
   ]
  },
  {
   "cell_type": "code",
   "execution_count": 4,
   "metadata": {
    "ExecuteTime": {
     "end_time": "2019-10-25T02:03:10.700733Z",
     "start_time": "2019-10-25T02:03:10.596312Z"
    }
   },
   "outputs": [],
   "source": [
    "def read_dataset(path):\n",
    "    with codecs.open(path, 'r', 'utf-8') as myFile:\n",
    "        content = myFile.read()\n",
    "        dataset = json.loads(content)\n",
    "    return dataset\n",
    "\n",
    "if (IMPORT):\n",
    "    path = os.path.join(DATA_DIR, 'pizza_request_dataset/pizza_request_dataset.json')\n",
    "    dataset = read_dataset(path)\n",
    "  \n",
    "    if (VERBOSE):\n",
    "        print('The dataset contains %d samples.' %(len(dataset)))\n",
    "        print('Available attributes: ', sorted(dataset[0].keys()))\n",
    "        print('First post:')\n",
    "        print(json.dumps(dataset[0], sort_keys=True, indent=2))\n",
    "\n",
    "        successes = [r['requester_received_pizza'] for r in dataset]\n",
    "        success_rate = 100.0 * sum(successes) / float(len(successes))\n",
    "        print('The average success rate is: %.2f%%' %(success_rate))"
   ]
  },
  {
   "cell_type": "code",
   "execution_count": 5,
   "metadata": {
    "ExecuteTime": {
     "end_time": "2019-10-25T02:03:10.767020Z",
     "start_time": "2019-10-25T02:03:10.701973Z"
    }
   },
   "outputs": [
    {
     "data": {
      "text/html": [
       "<div>\n",
       "<style scoped>\n",
       "    .dataframe tbody tr th:only-of-type {\n",
       "        vertical-align: middle;\n",
       "    }\n",
       "\n",
       "    .dataframe tbody tr th {\n",
       "        vertical-align: top;\n",
       "    }\n",
       "\n",
       "    .dataframe thead th {\n",
       "        text-align: right;\n",
       "    }\n",
       "</style>\n",
       "<table border=\"1\" class=\"dataframe\">\n",
       "  <thead>\n",
       "    <tr style=\"text-align: right;\">\n",
       "      <th></th>\n",
       "      <th>giver_username_if_known</th>\n",
       "      <th>in_test_set</th>\n",
       "      <th>number_of_downvotes_of_request_at_retrieval</th>\n",
       "      <th>number_of_upvotes_of_request_at_retrieval</th>\n",
       "      <th>post_was_edited</th>\n",
       "      <th>request_number_of_comments_at_retrieval</th>\n",
       "      <th>request_text</th>\n",
       "      <th>request_text_edit_aware</th>\n",
       "      <th>request_title</th>\n",
       "      <th>requester_account_age_in_days_at_request</th>\n",
       "      <th>...</th>\n",
       "      <th>requester_received_pizza</th>\n",
       "      <th>requester_subreddits_at_request</th>\n",
       "      <th>requester_upvotes_minus_downvotes_at_request</th>\n",
       "      <th>requester_upvotes_minus_downvotes_at_retrieval</th>\n",
       "      <th>requester_upvotes_plus_downvotes_at_request</th>\n",
       "      <th>requester_upvotes_plus_downvotes_at_retrieval</th>\n",
       "      <th>requester_user_flair</th>\n",
       "      <th>requester_username</th>\n",
       "      <th>unix_timestamp_of_request</th>\n",
       "      <th>unix_timestamp_of_request_utc</th>\n",
       "    </tr>\n",
       "    <tr>\n",
       "      <th>request_id</th>\n",
       "      <th></th>\n",
       "      <th></th>\n",
       "      <th></th>\n",
       "      <th></th>\n",
       "      <th></th>\n",
       "      <th></th>\n",
       "      <th></th>\n",
       "      <th></th>\n",
       "      <th></th>\n",
       "      <th></th>\n",
       "      <th></th>\n",
       "      <th></th>\n",
       "      <th></th>\n",
       "      <th></th>\n",
       "      <th></th>\n",
       "      <th></th>\n",
       "      <th></th>\n",
       "      <th></th>\n",
       "      <th></th>\n",
       "      <th></th>\n",
       "      <th></th>\n",
       "    </tr>\n",
       "  </thead>\n",
       "  <tbody>\n",
       "    <tr>\n",
       "      <th>t3_w5491</th>\n",
       "      <td>N/A</td>\n",
       "      <td>False</td>\n",
       "      <td>2</td>\n",
       "      <td>6</td>\n",
       "      <td>False</td>\n",
       "      <td>7</td>\n",
       "      <td>I'm not in College, or a starving artist or an...</td>\n",
       "      <td>I'm not in College, or a starving artist or an...</td>\n",
       "      <td>[Request] Ontario, Canada - On my 3rd of 5 day...</td>\n",
       "      <td>14.416875</td>\n",
       "      <td>...</td>\n",
       "      <td>True</td>\n",
       "      <td>[AdviceAnimals, WTF, funny, gaming, movies, te...</td>\n",
       "      <td>32</td>\n",
       "      <td>212</td>\n",
       "      <td>48</td>\n",
       "      <td>610</td>\n",
       "      <td>shroom</td>\n",
       "      <td>RitalinYourMemory</td>\n",
       "      <td>1.341605e+09</td>\n",
       "      <td>1.341601e+09</td>\n",
       "    </tr>\n",
       "    <tr>\n",
       "      <th>t3_qysgy</th>\n",
       "      <td>N/A</td>\n",
       "      <td>False</td>\n",
       "      <td>2</td>\n",
       "      <td>6</td>\n",
       "      <td>True</td>\n",
       "      <td>8</td>\n",
       "      <td>Hello! It's been a hard 2 months with money an...</td>\n",
       "      <td>Hello! It's been a hard 2 months with money an...</td>\n",
       "      <td>[REQUEST] Southern Arizona, Tucson Hungry Family</td>\n",
       "      <td>11.957060</td>\n",
       "      <td>...</td>\n",
       "      <td>True</td>\n",
       "      <td>[aww, pics]</td>\n",
       "      <td>5</td>\n",
       "      <td>21</td>\n",
       "      <td>13</td>\n",
       "      <td>57</td>\n",
       "      <td>shroom</td>\n",
       "      <td>blubirdhvn</td>\n",
       "      <td>1.331868e+09</td>\n",
       "      <td>1.331865e+09</td>\n",
       "    </tr>\n",
       "    <tr>\n",
       "      <th>t3_if0ed</th>\n",
       "      <td>N/A</td>\n",
       "      <td>False</td>\n",
       "      <td>1</td>\n",
       "      <td>4</td>\n",
       "      <td>True</td>\n",
       "      <td>1</td>\n",
       "      <td>I'm sure there are needier people on this subr...</td>\n",
       "      <td>I'm sure there are needier people on this subr...</td>\n",
       "      <td>[Request] Pizza for a broke college student</td>\n",
       "      <td>454.388461</td>\n",
       "      <td>...</td>\n",
       "      <td>True</td>\n",
       "      <td>[AskReddit, DoesAnybodyElse, IAmA, Marijuana, ...</td>\n",
       "      <td>1359</td>\n",
       "      <td>2110</td>\n",
       "      <td>2423</td>\n",
       "      <td>3456</td>\n",
       "      <td>shroom</td>\n",
       "      <td>taterpot</td>\n",
       "      <td>1.309622e+09</td>\n",
       "      <td>1.309619e+09</td>\n",
       "    </tr>\n",
       "    <tr>\n",
       "      <th>t3_jr3w1</th>\n",
       "      <td>N/A</td>\n",
       "      <td>False</td>\n",
       "      <td>2</td>\n",
       "      <td>13</td>\n",
       "      <td>False</td>\n",
       "      <td>3</td>\n",
       "      <td>I've been unemployed going on three months now...</td>\n",
       "      <td>I've been unemployed going on three months now...</td>\n",
       "      <td>[Request] Unemployed and Sick of Rice (Suffolk...</td>\n",
       "      <td>141.715625</td>\n",
       "      <td>...</td>\n",
       "      <td>True</td>\n",
       "      <td>[AdviceAnimals, Art, AskReddit, BookCollecting...</td>\n",
       "      <td>1205</td>\n",
       "      <td>4889</td>\n",
       "      <td>2403</td>\n",
       "      <td>8245</td>\n",
       "      <td>shroom</td>\n",
       "      <td>or_me_bender</td>\n",
       "      <td>1.314060e+09</td>\n",
       "      <td>1.314056e+09</td>\n",
       "    </tr>\n",
       "    <tr>\n",
       "      <th>t3_1d18tc</th>\n",
       "      <td>N/A</td>\n",
       "      <td>False</td>\n",
       "      <td>1</td>\n",
       "      <td>4</td>\n",
       "      <td>1.36685e+09</td>\n",
       "      <td>5</td>\n",
       "      <td>I ran out of money on my meal card a while bac...</td>\n",
       "      <td>I ran out of money on my meal card a while bac...</td>\n",
       "      <td>[Request] Ohio USA, broke student musician in ...</td>\n",
       "      <td>161.699155</td>\n",
       "      <td>...</td>\n",
       "      <td>True</td>\n",
       "      <td>[TrueAtheism, atheism, funny]</td>\n",
       "      <td>81</td>\n",
       "      <td>86</td>\n",
       "      <td>225</td>\n",
       "      <td>232</td>\n",
       "      <td>shroom</td>\n",
       "      <td>m_chamberlin</td>\n",
       "      <td>1.366840e+09</td>\n",
       "      <td>1.366836e+09</td>\n",
       "    </tr>\n",
       "  </tbody>\n",
       "</table>\n",
       "<p>5 rows × 32 columns</p>\n",
       "</div>"
      ],
      "text/plain": [
       "           giver_username_if_known  in_test_set  \\\n",
       "request_id                                        \n",
       "t3_w5491                       N/A        False   \n",
       "t3_qysgy                       N/A        False   \n",
       "t3_if0ed                       N/A        False   \n",
       "t3_jr3w1                       N/A        False   \n",
       "t3_1d18tc                      N/A        False   \n",
       "\n",
       "            number_of_downvotes_of_request_at_retrieval  \\\n",
       "request_id                                                \n",
       "t3_w5491                                              2   \n",
       "t3_qysgy                                              2   \n",
       "t3_if0ed                                              1   \n",
       "t3_jr3w1                                              2   \n",
       "t3_1d18tc                                             1   \n",
       "\n",
       "            number_of_upvotes_of_request_at_retrieval post_was_edited  \\\n",
       "request_id                                                              \n",
       "t3_w5491                                            6           False   \n",
       "t3_qysgy                                            6            True   \n",
       "t3_if0ed                                            4            True   \n",
       "t3_jr3w1                                           13           False   \n",
       "t3_1d18tc                                           4     1.36685e+09   \n",
       "\n",
       "            request_number_of_comments_at_retrieval  \\\n",
       "request_id                                            \n",
       "t3_w5491                                          7   \n",
       "t3_qysgy                                          8   \n",
       "t3_if0ed                                          1   \n",
       "t3_jr3w1                                          3   \n",
       "t3_1d18tc                                         5   \n",
       "\n",
       "                                                 request_text  \\\n",
       "request_id                                                      \n",
       "t3_w5491    I'm not in College, or a starving artist or an...   \n",
       "t3_qysgy    Hello! It's been a hard 2 months with money an...   \n",
       "t3_if0ed    I'm sure there are needier people on this subr...   \n",
       "t3_jr3w1    I've been unemployed going on three months now...   \n",
       "t3_1d18tc   I ran out of money on my meal card a while bac...   \n",
       "\n",
       "                                      request_text_edit_aware  \\\n",
       "request_id                                                      \n",
       "t3_w5491    I'm not in College, or a starving artist or an...   \n",
       "t3_qysgy    Hello! It's been a hard 2 months with money an...   \n",
       "t3_if0ed    I'm sure there are needier people on this subr...   \n",
       "t3_jr3w1    I've been unemployed going on three months now...   \n",
       "t3_1d18tc   I ran out of money on my meal card a while bac...   \n",
       "\n",
       "                                                request_title  \\\n",
       "request_id                                                      \n",
       "t3_w5491    [Request] Ontario, Canada - On my 3rd of 5 day...   \n",
       "t3_qysgy     [REQUEST] Southern Arizona, Tucson Hungry Family   \n",
       "t3_if0ed          [Request] Pizza for a broke college student   \n",
       "t3_jr3w1    [Request] Unemployed and Sick of Rice (Suffolk...   \n",
       "t3_1d18tc   [Request] Ohio USA, broke student musician in ...   \n",
       "\n",
       "            requester_account_age_in_days_at_request  ...  \\\n",
       "request_id                                            ...   \n",
       "t3_w5491                                   14.416875  ...   \n",
       "t3_qysgy                                   11.957060  ...   \n",
       "t3_if0ed                                  454.388461  ...   \n",
       "t3_jr3w1                                  141.715625  ...   \n",
       "t3_1d18tc                                 161.699155  ...   \n",
       "\n",
       "            requester_received_pizza  \\\n",
       "request_id                             \n",
       "t3_w5491                        True   \n",
       "t3_qysgy                        True   \n",
       "t3_if0ed                        True   \n",
       "t3_jr3w1                        True   \n",
       "t3_1d18tc                       True   \n",
       "\n",
       "                              requester_subreddits_at_request  \\\n",
       "request_id                                                      \n",
       "t3_w5491    [AdviceAnimals, WTF, funny, gaming, movies, te...   \n",
       "t3_qysgy                                          [aww, pics]   \n",
       "t3_if0ed    [AskReddit, DoesAnybodyElse, IAmA, Marijuana, ...   \n",
       "t3_jr3w1    [AdviceAnimals, Art, AskReddit, BookCollecting...   \n",
       "t3_1d18tc                       [TrueAtheism, atheism, funny]   \n",
       "\n",
       "            requester_upvotes_minus_downvotes_at_request  \\\n",
       "request_id                                                 \n",
       "t3_w5491                                              32   \n",
       "t3_qysgy                                               5   \n",
       "t3_if0ed                                            1359   \n",
       "t3_jr3w1                                            1205   \n",
       "t3_1d18tc                                             81   \n",
       "\n",
       "            requester_upvotes_minus_downvotes_at_retrieval  \\\n",
       "request_id                                                   \n",
       "t3_w5491                                               212   \n",
       "t3_qysgy                                                21   \n",
       "t3_if0ed                                              2110   \n",
       "t3_jr3w1                                              4889   \n",
       "t3_1d18tc                                               86   \n",
       "\n",
       "            requester_upvotes_plus_downvotes_at_request  \\\n",
       "request_id                                                \n",
       "t3_w5491                                             48   \n",
       "t3_qysgy                                             13   \n",
       "t3_if0ed                                           2423   \n",
       "t3_jr3w1                                           2403   \n",
       "t3_1d18tc                                           225   \n",
       "\n",
       "            requester_upvotes_plus_downvotes_at_retrieval  \\\n",
       "request_id                                                  \n",
       "t3_w5491                                              610   \n",
       "t3_qysgy                                               57   \n",
       "t3_if0ed                                             3456   \n",
       "t3_jr3w1                                             8245   \n",
       "t3_1d18tc                                             232   \n",
       "\n",
       "            requester_user_flair  requester_username  \\\n",
       "request_id                                             \n",
       "t3_w5491                  shroom   RitalinYourMemory   \n",
       "t3_qysgy                  shroom          blubirdhvn   \n",
       "t3_if0ed                  shroom            taterpot   \n",
       "t3_jr3w1                  shroom        or_me_bender   \n",
       "t3_1d18tc                 shroom        m_chamberlin   \n",
       "\n",
       "            unix_timestamp_of_request  unix_timestamp_of_request_utc  \n",
       "request_id                                                            \n",
       "t3_w5491                 1.341605e+09                   1.341601e+09  \n",
       "t3_qysgy                 1.331868e+09                   1.331865e+09  \n",
       "t3_if0ed                 1.309622e+09                   1.309619e+09  \n",
       "t3_jr3w1                 1.314060e+09                   1.314056e+09  \n",
       "t3_1d18tc                1.366840e+09                   1.366836e+09  \n",
       "\n",
       "[5 rows x 32 columns]"
      ]
     },
     "execution_count": 5,
     "metadata": {},
     "output_type": "execute_result"
    }
   ],
   "source": [
    "data = pd.DataFrame(dataset)\n",
    "data = data.set_index(\"request_id\", verify_integrity=True)\n",
    "data.head()"
   ]
  },
  {
   "cell_type": "markdown",
   "metadata": {},
   "source": [
    "# Make splits while maintaining class balance"
   ]
  },
  {
   "cell_type": "code",
   "execution_count": 6,
   "metadata": {
    "ExecuteTime": {
     "end_time": "2019-10-25T02:03:10.770459Z",
     "start_time": "2019-10-25T02:03:10.768346Z"
    }
   },
   "outputs": [],
   "source": [
    "splits = [0.6, 0.2, 0.2]"
   ]
  },
  {
   "cell_type": "code",
   "execution_count": 7,
   "metadata": {
    "ExecuteTime": {
     "end_time": "2019-10-25T02:03:10.836505Z",
     "start_time": "2019-10-25T02:03:10.827095Z"
    }
   },
   "outputs": [],
   "source": [
    "train_and_val, test_set = sklearn.model_selection.train_test_split(\n",
    "    data, test_size=0.2, stratify=data.requester_received_pizza, random_state=SEED)"
   ]
  },
  {
   "cell_type": "code",
   "execution_count": 8,
   "metadata": {
    "ExecuteTime": {
     "end_time": "2019-10-25T02:03:11.006615Z",
     "start_time": "2019-10-25T02:03:10.995114Z"
    }
   },
   "outputs": [],
   "source": [
    "train_set, val_set = sklearn.model_selection.train_test_split(\n",
    "    train_and_val, test_size=0.25, stratify=train_and_val.requester_received_pizza,\n",
    "    random_state=SEED)"
   ]
  },
  {
   "cell_type": "code",
   "execution_count": 14,
   "metadata": {
    "ExecuteTime": {
     "end_time": "2019-10-25T02:04:15.839754Z",
     "start_time": "2019-10-25T02:04:15.816535Z"
    }
   },
   "outputs": [],
   "source": [
    "train_mini, _ = sklearn.model_selection.train_test_split(\n",
    "    train_set, train_size=0.01, stratify=train_set.requester_received_pizza, random_state=SEED)\n",
    "val_mini, _ = sklearn.model_selection.train_test_split(\n",
    "    val_set, train_size=0.01, stratify=val_set.requester_received_pizza, random_state=SEED)\n",
    "test_mini, _ = sklearn.model_selection.train_test_split(\n",
    "    test_set, train_size=0.01, stratify=test_set.requester_received_pizza, random_state=SEED)\n",
    "\n",
    "train_medium, _ = sklearn.model_selection.train_test_split(\n",
    "    train_set, train_size=0.1, stratify=train_set.requester_received_pizza, random_state=SEED)\n",
    "val_medium, _ = sklearn.model_selection.train_test_split(\n",
    "    val_set, train_size=0.1, stratify=val_set.requester_received_pizza, random_state=SEED)\n",
    "test_medium, _ = sklearn.model_selection.train_test_split(\n",
    "    test_set, train_size=0.1, stratify=test_set.requester_received_pizza, random_state=SEED)"
   ]
  },
  {
   "cell_type": "markdown",
   "metadata": {},
   "source": [
    "## Ensure the number of total examples is the same\n",
    "We're missing 3 examples, likely from rounding error. Should be fine"
   ]
  },
  {
   "cell_type": "code",
   "execution_count": 15,
   "metadata": {
    "ExecuteTime": {
     "end_time": "2019-10-25T02:04:16.700930Z",
     "start_time": "2019-10-25T02:04:16.696127Z"
    }
   },
   "outputs": [
    {
     "data": {
      "text/plain": [
       "(5671, 5671)"
      ]
     },
     "execution_count": 15,
     "metadata": {},
     "output_type": "execute_result"
    }
   ],
   "source": [
    "len(train_set) + len(val_set) + len(test_set), len(data)"
   ]
  },
  {
   "cell_type": "code",
   "execution_count": 16,
   "metadata": {
    "ExecuteTime": {
     "end_time": "2019-10-25T02:04:17.370102Z",
     "start_time": "2019-10-25T02:04:17.364696Z"
    }
   },
   "outputs": [
    {
     "data": {
      "text/plain": [
       "(56, 5671)"
      ]
     },
     "execution_count": 16,
     "metadata": {},
     "output_type": "execute_result"
    }
   ],
   "source": [
    "len(train_mini) + len(val_mini) + len(test_mini), len(data)"
   ]
  },
  {
   "cell_type": "markdown",
   "metadata": {},
   "source": [
    "## Check class balance"
   ]
  },
  {
   "cell_type": "code",
   "execution_count": 17,
   "metadata": {
    "ExecuteTime": {
     "end_time": "2019-10-25T02:04:26.574776Z",
     "start_time": "2019-10-25T02:04:26.566903Z"
    }
   },
   "outputs": [
    {
     "data": {
      "text/plain": [
       "0.24632569077013522"
      ]
     },
     "execution_count": 17,
     "metadata": {},
     "output_type": "execute_result"
    }
   ],
   "source": [
    "len(train_set[train_set.requester_received_pizza])/len(train_set)"
   ]
  },
  {
   "cell_type": "code",
   "execution_count": 18,
   "metadata": {
    "ExecuteTime": {
     "end_time": "2019-10-25T02:04:26.934281Z",
     "start_time": "2019-10-25T02:04:26.928606Z"
    }
   },
   "outputs": [
    {
     "data": {
      "text/plain": [
       "0.24603174603174602"
      ]
     },
     "execution_count": 18,
     "metadata": {},
     "output_type": "execute_result"
    }
   ],
   "source": [
    "len(val_set[val_set.requester_received_pizza])/len(val_set)"
   ]
  },
  {
   "cell_type": "code",
   "execution_count": 19,
   "metadata": {
    "ExecuteTime": {
     "end_time": "2019-10-25T02:04:27.214765Z",
     "start_time": "2019-10-25T02:04:27.208897Z"
    }
   },
   "outputs": [
    {
     "data": {
      "text/plain": [
       "0.24669603524229075"
      ]
     },
     "execution_count": 19,
     "metadata": {},
     "output_type": "execute_result"
    }
   ],
   "source": [
    "len(test_set[test_set.requester_received_pizza])/len(test_set)"
   ]
  },
  {
   "cell_type": "markdown",
   "metadata": {},
   "source": [
    "# Export as csvs"
   ]
  },
  {
   "cell_type": "code",
   "execution_count": 20,
   "metadata": {
    "ExecuteTime": {
     "end_time": "2019-10-25T02:04:55.482113Z",
     "start_time": "2019-10-25T02:04:55.229269Z"
    }
   },
   "outputs": [],
   "source": [
    "if (EXPORT):\n",
    "    train_set.to_csv(os.path.join(DATA_DIR, \"train_all.csv\"), index=False)\n",
    "    val_set.to_csv(os.path.join(DATA_DIR, \"val_all.csv\"), index=False)\n",
    "    test_set.to_csv(os.path.join(DATA_DIR, \"test_all.csv\"), index=False)\n",
    "    \n",
    "    train_medium.to_csv(os.path.join(DATA_DIR, \"train_medium.csv\"), index=False)\n",
    "    val_medium.to_csv(os.path.join(DATA_DIR, \"val_medium.csv\"), index=False)\n",
    "    test_medium.to_csv(os.path.join(DATA_DIR, \"test_medium.csv\"), index=False)\n",
    "    \n",
    "    train_mini.to_csv(os.path.join(DATA_DIR, \"train_mini.csv\"), index=False)\n",
    "    val_mini.to_csv(os.path.join(DATA_DIR, \"val_mini.csv\"), index=False)\n",
    "    test_mini.to_csv(os.path.join(DATA_DIR, \"test_mini.csv\"), index=False)"
   ]
  }
 ],
 "metadata": {
  "kernelspec": {
   "display_name": "Python 3",
   "language": "python",
   "name": "python3"
  },
  "language_info": {
   "codemirror_mode": {
    "name": "ipython",
    "version": 3
   },
   "file_extension": ".py",
   "mimetype": "text/x-python",
   "name": "python",
   "nbconvert_exporter": "python",
   "pygments_lexer": "ipython3",
   "version": "3.7.3"
  }
 },
 "nbformat": 4,
 "nbformat_minor": 2
}
